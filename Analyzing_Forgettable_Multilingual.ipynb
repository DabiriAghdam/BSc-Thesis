{
  "nbformat": 4,
  "nbformat_minor": 0,
  "metadata": {
    "colab": {
      "provenance": []
    },
    "kernelspec": {
      "name": "python3",
      "display_name": "Python 3"
    },
    "language_info": {
      "name": "python"
    }
  },
  "cells": [
    {
      "cell_type": "code",
      "execution_count": null,
      "metadata": {
        "colab": {
          "base_uri": "https://localhost:8080/"
        },
        "id": "L1vVtoaqFblQ",
        "outputId": "8849a20a-fc59-45ae-ae86-4d2101c1cb34"
      },
      "outputs": [
        {
          "output_type": "stream",
          "name": "stdout",
          "text": [
            "\u001b[2K     \u001b[90m━━━━━━━━━━━━━━━━━━━━━━━━━━━━━━━━━━━━━━━\u001b[0m \u001b[32m474.6/474.6 kB\u001b[0m \u001b[31m9.7 MB/s\u001b[0m eta \u001b[36m0:00:00\u001b[0m\n",
            "\u001b[2K     \u001b[90m━━━━━━━━━━━━━━━━━━━━━━━━━━━━━━━━━━━━━━\u001b[0m \u001b[32m110.5/110.5 kB\u001b[0m \u001b[31m12.4 MB/s\u001b[0m eta \u001b[36m0:00:00\u001b[0m\n",
            "\u001b[2K     \u001b[90m━━━━━━━━━━━━━━━━━━━━━━━━━━━━━━━━━━━━━━\u001b[0m \u001b[32m212.5/212.5 kB\u001b[0m \u001b[31m24.6 MB/s\u001b[0m eta \u001b[36m0:00:00\u001b[0m\n",
            "\u001b[2K     \u001b[90m━━━━━━━━━━━━━━━━━━━━━━━━━━━━━━━━━━━━━━\u001b[0m \u001b[32m134.3/134.3 kB\u001b[0m \u001b[31m15.0 MB/s\u001b[0m eta \u001b[36m0:00:00\u001b[0m\n",
            "\u001b[2K     \u001b[90m━━━━━━━━━━━━━━━━━━━━━━━━━━━━━━━━━━━━━━━━\u001b[0m \u001b[32m1.0/1.0 MB\u001b[0m \u001b[31m43.8 MB/s\u001b[0m eta \u001b[36m0:00:00\u001b[0m\n",
            "\u001b[2K     \u001b[90m━━━━━━━━━━━━━━━━━━━━━━━━━━━━━━━━━━━━━━\u001b[0m \u001b[32m236.8/236.8 kB\u001b[0m \u001b[31m28.9 MB/s\u001b[0m eta \u001b[36m0:00:00\u001b[0m\n",
            "\u001b[2K     \u001b[90m━━━━━━━━━━━━━━━━━━━━━━━━━━━━━━━━━━━━━━\u001b[0m \u001b[32m114.5/114.5 kB\u001b[0m \u001b[31m13.7 MB/s\u001b[0m eta \u001b[36m0:00:00\u001b[0m\n",
            "\u001b[2K     \u001b[90m━━━━━━━━━━━━━━━━━━━━━━━━━━━━━━━━━━━━━━\u001b[0m \u001b[32m268.8/268.8 kB\u001b[0m \u001b[31m29.1 MB/s\u001b[0m eta \u001b[36m0:00:00\u001b[0m\n",
            "\u001b[2K     \u001b[90m━━━━━━━━━━━━━━━━━━━━━━━━━━━━━━━━━━━━━━\u001b[0m \u001b[32m149.6/149.6 kB\u001b[0m \u001b[31m12.8 MB/s\u001b[0m eta \u001b[36m0:00:00\u001b[0m\n",
            "\u001b[?25h"
          ]
        }
      ],
      "source": [
        "!pip install -q datasets\n",
        "from datasets import load_dataset\n",
        "import pickle\n",
        "import numpy as np\n",
        "import pandas as pd"
      ]
    },
    {
      "cell_type": "code",
      "source": [
        "from google.colab import drive\n",
        "drive.mount('/content/drive')"
      ],
      "metadata": {
        "colab": {
          "base_uri": "https://localhost:8080/"
        },
        "id": "sLuFaRogGLQ8",
        "outputId": "36e0937a-726c-4795-b7dc-41897f2eafef"
      },
      "execution_count": null,
      "outputs": [
        {
          "output_type": "stream",
          "name": "stdout",
          "text": [
            "Mounted at /content/drive\n"
          ]
        }
      ]
    },
    {
      "cell_type": "markdown",
      "source": [
        "#**Monolingual**"
      ],
      "metadata": {
        "id": "9GvvFoFbFzmn"
      }
    },
    {
      "cell_type": "markdown",
      "source": [
        "##Fr"
      ],
      "metadata": {
        "id": "RXsQXDaMGjR7"
      }
    },
    {
      "cell_type": "code",
      "source": [
        "df_single_fr = pd.read_csv(\"/content/drive/MyDrive/NLP Bachelors' Project/FRG_Info(pkl files)/Single Lingual/French2_FRG_Info.csv\")\n",
        "df_single_fr"
      ],
      "metadata": {
        "colab": {
          "base_uri": "https://localhost:8080/",
          "height": 423
        },
        "id": "Pr2Geqy2F1eL",
        "outputId": "aec55eb9-f22d-4e64-ad75-a1696bb60de0"
      },
      "execution_count": null,
      "outputs": [
        {
          "output_type": "execute_result",
          "data": {
            "text/plain": [
              "      Unnamed: 0  sample_index  forgetting_events   Match_label_indexs\n",
              "0              0             2                  1              [1 2 3]\n",
              "1              1            15                  0                   []\n",
              "2              2            53                  1    [1 2 3 4 5 7 8 9]\n",
              "3              3            63                  1    [1 2 3 5 6 7 8 9]\n",
              "4              4            65                  2        [1 3 4 7 8 9]\n",
              "...          ...           ...                ...                  ...\n",
              "1176        1176          8426                  2    [0 2 3 5 6 7 8 9]\n",
              "1177        1177          8432                  0                   []\n",
              "1178        1178          8438                  0                   []\n",
              "1179        1179          8450                  1  [0 1 3 4 5 6 7 8 9]\n",
              "1180        1180          8459                  1  [0 1 2 3 4 5 7 8 9]\n",
              "\n",
              "[1181 rows x 4 columns]"
            ],
            "text/html": [
              "\n",
              "  <div id=\"df-bfd55ddb-7206-475f-8900-eb0774ddf21e\">\n",
              "    <div class=\"colab-df-container\">\n",
              "      <div>\n",
              "<style scoped>\n",
              "    .dataframe tbody tr th:only-of-type {\n",
              "        vertical-align: middle;\n",
              "    }\n",
              "\n",
              "    .dataframe tbody tr th {\n",
              "        vertical-align: top;\n",
              "    }\n",
              "\n",
              "    .dataframe thead th {\n",
              "        text-align: right;\n",
              "    }\n",
              "</style>\n",
              "<table border=\"1\" class=\"dataframe\">\n",
              "  <thead>\n",
              "    <tr style=\"text-align: right;\">\n",
              "      <th></th>\n",
              "      <th>Unnamed: 0</th>\n",
              "      <th>sample_index</th>\n",
              "      <th>forgetting_events</th>\n",
              "      <th>Match_label_indexs</th>\n",
              "    </tr>\n",
              "  </thead>\n",
              "  <tbody>\n",
              "    <tr>\n",
              "      <th>0</th>\n",
              "      <td>0</td>\n",
              "      <td>2</td>\n",
              "      <td>1</td>\n",
              "      <td>[1 2 3]</td>\n",
              "    </tr>\n",
              "    <tr>\n",
              "      <th>1</th>\n",
              "      <td>1</td>\n",
              "      <td>15</td>\n",
              "      <td>0</td>\n",
              "      <td>[]</td>\n",
              "    </tr>\n",
              "    <tr>\n",
              "      <th>2</th>\n",
              "      <td>2</td>\n",
              "      <td>53</td>\n",
              "      <td>1</td>\n",
              "      <td>[1 2 3 4 5 7 8 9]</td>\n",
              "    </tr>\n",
              "    <tr>\n",
              "      <th>3</th>\n",
              "      <td>3</td>\n",
              "      <td>63</td>\n",
              "      <td>1</td>\n",
              "      <td>[1 2 3 5 6 7 8 9]</td>\n",
              "    </tr>\n",
              "    <tr>\n",
              "      <th>4</th>\n",
              "      <td>4</td>\n",
              "      <td>65</td>\n",
              "      <td>2</td>\n",
              "      <td>[1 3 4 7 8 9]</td>\n",
              "    </tr>\n",
              "    <tr>\n",
              "      <th>...</th>\n",
              "      <td>...</td>\n",
              "      <td>...</td>\n",
              "      <td>...</td>\n",
              "      <td>...</td>\n",
              "    </tr>\n",
              "    <tr>\n",
              "      <th>1176</th>\n",
              "      <td>1176</td>\n",
              "      <td>8426</td>\n",
              "      <td>2</td>\n",
              "      <td>[0 2 3 5 6 7 8 9]</td>\n",
              "    </tr>\n",
              "    <tr>\n",
              "      <th>1177</th>\n",
              "      <td>1177</td>\n",
              "      <td>8432</td>\n",
              "      <td>0</td>\n",
              "      <td>[]</td>\n",
              "    </tr>\n",
              "    <tr>\n",
              "      <th>1178</th>\n",
              "      <td>1178</td>\n",
              "      <td>8438</td>\n",
              "      <td>0</td>\n",
              "      <td>[]</td>\n",
              "    </tr>\n",
              "    <tr>\n",
              "      <th>1179</th>\n",
              "      <td>1179</td>\n",
              "      <td>8450</td>\n",
              "      <td>1</td>\n",
              "      <td>[0 1 3 4 5 6 7 8 9]</td>\n",
              "    </tr>\n",
              "    <tr>\n",
              "      <th>1180</th>\n",
              "      <td>1180</td>\n",
              "      <td>8459</td>\n",
              "      <td>1</td>\n",
              "      <td>[0 1 2 3 4 5 7 8 9]</td>\n",
              "    </tr>\n",
              "  </tbody>\n",
              "</table>\n",
              "<p>1181 rows × 4 columns</p>\n",
              "</div>\n",
              "      <button class=\"colab-df-convert\" onclick=\"convertToInteractive('df-bfd55ddb-7206-475f-8900-eb0774ddf21e')\"\n",
              "              title=\"Convert this dataframe to an interactive table.\"\n",
              "              style=\"display:none;\">\n",
              "        \n",
              "  <svg xmlns=\"http://www.w3.org/2000/svg\" height=\"24px\"viewBox=\"0 0 24 24\"\n",
              "       width=\"24px\">\n",
              "    <path d=\"M0 0h24v24H0V0z\" fill=\"none\"/>\n",
              "    <path d=\"M18.56 5.44l.94 2.06.94-2.06 2.06-.94-2.06-.94-.94-2.06-.94 2.06-2.06.94zm-11 1L8.5 8.5l.94-2.06 2.06-.94-2.06-.94L8.5 2.5l-.94 2.06-2.06.94zm10 10l.94 2.06.94-2.06 2.06-.94-2.06-.94-.94-2.06-.94 2.06-2.06.94z\"/><path d=\"M17.41 7.96l-1.37-1.37c-.4-.4-.92-.59-1.43-.59-.52 0-1.04.2-1.43.59L10.3 9.45l-7.72 7.72c-.78.78-.78 2.05 0 2.83L4 21.41c.39.39.9.59 1.41.59.51 0 1.02-.2 1.41-.59l7.78-7.78 2.81-2.81c.8-.78.8-2.07 0-2.86zM5.41 20L4 18.59l7.72-7.72 1.47 1.35L5.41 20z\"/>\n",
              "  </svg>\n",
              "      </button>\n",
              "      \n",
              "  <style>\n",
              "    .colab-df-container {\n",
              "      display:flex;\n",
              "      flex-wrap:wrap;\n",
              "      gap: 12px;\n",
              "    }\n",
              "\n",
              "    .colab-df-convert {\n",
              "      background-color: #E8F0FE;\n",
              "      border: none;\n",
              "      border-radius: 50%;\n",
              "      cursor: pointer;\n",
              "      display: none;\n",
              "      fill: #1967D2;\n",
              "      height: 32px;\n",
              "      padding: 0 0 0 0;\n",
              "      width: 32px;\n",
              "    }\n",
              "\n",
              "    .colab-df-convert:hover {\n",
              "      background-color: #E2EBFA;\n",
              "      box-shadow: 0px 1px 2px rgba(60, 64, 67, 0.3), 0px 1px 3px 1px rgba(60, 64, 67, 0.15);\n",
              "      fill: #174EA6;\n",
              "    }\n",
              "\n",
              "    [theme=dark] .colab-df-convert {\n",
              "      background-color: #3B4455;\n",
              "      fill: #D2E3FC;\n",
              "    }\n",
              "\n",
              "    [theme=dark] .colab-df-convert:hover {\n",
              "      background-color: #434B5C;\n",
              "      box-shadow: 0px 1px 3px 1px rgba(0, 0, 0, 0.15);\n",
              "      filter: drop-shadow(0px 1px 2px rgba(0, 0, 0, 0.3));\n",
              "      fill: #FFFFFF;\n",
              "    }\n",
              "  </style>\n",
              "\n",
              "      <script>\n",
              "        const buttonEl =\n",
              "          document.querySelector('#df-bfd55ddb-7206-475f-8900-eb0774ddf21e button.colab-df-convert');\n",
              "        buttonEl.style.display =\n",
              "          google.colab.kernel.accessAllowed ? 'block' : 'none';\n",
              "\n",
              "        async function convertToInteractive(key) {\n",
              "          const element = document.querySelector('#df-bfd55ddb-7206-475f-8900-eb0774ddf21e');\n",
              "          const dataTable =\n",
              "            await google.colab.kernel.invokeFunction('convertToInteractive',\n",
              "                                                     [key], {});\n",
              "          if (!dataTable) return;\n",
              "\n",
              "          const docLinkHtml = 'Like what you see? Visit the ' +\n",
              "            '<a target=\"_blank\" href=https://colab.research.google.com/notebooks/data_table.ipynb>data table notebook</a>'\n",
              "            + ' to learn more about interactive tables.';\n",
              "          element.innerHTML = '';\n",
              "          dataTable['output_type'] = 'display_data';\n",
              "          await google.colab.output.renderOutput(dataTable, element);\n",
              "          const docLink = document.createElement('div');\n",
              "          docLink.innerHTML = docLinkHtml;\n",
              "          element.appendChild(docLink);\n",
              "        }\n",
              "      </script>\n",
              "    </div>\n",
              "  </div>\n",
              "  "
            ]
          },
          "metadata": {},
          "execution_count": 3
        }
      ]
    },
    {
      "cell_type": "code",
      "source": [
        "len(df_single_fr)"
      ],
      "metadata": {
        "colab": {
          "base_uri": "https://localhost:8080/"
        },
        "id": "IYdQZ8Bj0jyX",
        "outputId": "db53ed1d-60c5-40fa-866d-d80e48343da7"
      },
      "execution_count": null,
      "outputs": [
        {
          "output_type": "execute_result",
          "data": {
            "text/plain": [
              "1181"
            ]
          },
          "metadata": {},
          "execution_count": 4
        }
      ]
    },
    {
      "cell_type": "code",
      "source": [
        "df_single_fr['forgetting_events'].value_counts()"
      ],
      "metadata": {
        "colab": {
          "base_uri": "https://localhost:8080/"
        },
        "id": "tdK2nGQl0QgO",
        "outputId": "1107428c-33b9-40c4-9a2c-c95ec116c3d7"
      },
      "execution_count": null,
      "outputs": [
        {
          "output_type": "execute_result",
          "data": {
            "text/plain": [
              "1    737\n",
              "0    250\n",
              "2    168\n",
              "3     19\n",
              "4      7\n",
              "Name: forgetting_events, dtype: int64"
            ]
          },
          "metadata": {},
          "execution_count": 5
        }
      ]
    },
    {
      "cell_type": "code",
      "source": [
        "df_single_fr[\"Match_label_indexs\"][df_single_fr[\"Match_label_indexs\"].apply(lambda x: x[1:-1].split(' ')).apply(lambda x:len(x)>=2)].apply(lambda lst: lst[-2])"
      ],
      "metadata": {
        "colab": {
          "base_uri": "https://localhost:8080/"
        },
        "id": "soktg2Yr5aPV",
        "outputId": "6a2e38e3-8f7d-4ac3-b0c0-4ec67debe522"
      },
      "execution_count": null,
      "outputs": [
        {
          "output_type": "execute_result",
          "data": {
            "text/plain": [
              "0       3\n",
              "2       9\n",
              "3       9\n",
              "4       9\n",
              "5       7\n",
              "       ..\n",
              "1174    9\n",
              "1175    9\n",
              "1176    9\n",
              "1179    9\n",
              "1180    9\n",
              "Name: Match_label_indexs, Length: 861, dtype: object"
            ]
          },
          "metadata": {},
          "execution_count": 6
        }
      ]
    },
    {
      "cell_type": "code",
      "source": [
        "#How many true prediction ?\n",
        "(df_single_fr[\"Match_label_indexs\"][df_single_fr[\"Match_label_indexs\"].apply(lambda x: x[1:-1].split(' ')).apply(lambda x:len(x)>=2)].apply(lambda lst: lst[-2]).astype('int') == 9).sum()"
      ],
      "metadata": {
        "colab": {
          "base_uri": "https://localhost:8080/"
        },
        "id": "2bSdDwTT1eF5",
        "outputId": "8f894863-ef9c-4bcb-e685-1a91cae62db4"
      },
      "execution_count": null,
      "outputs": [
        {
          "output_type": "execute_result",
          "data": {
            "text/plain": [
              "728"
            ]
          },
          "metadata": {},
          "execution_count": 7
        }
      ]
    },
    {
      "cell_type": "markdown",
      "source": [
        "##Fa\n"
      ],
      "metadata": {
        "id": "4nj5lDGhGnDA"
      }
    },
    {
      "cell_type": "code",
      "source": [
        "df_single_fa = pd.read_csv(\"/content/drive/MyDrive/NLP Bachelors' Project/FRG_Info(pkl files)/Single Lingual/Farsi_FRG_Info.csv\")\n",
        "df_single_fa"
      ],
      "metadata": {
        "colab": {
          "base_uri": "https://localhost:8080/",
          "height": 423
        },
        "id": "4uzHvxYlGc3d",
        "outputId": "fc664fc8-82f3-4230-b19b-5bb1ed9ca960"
      },
      "execution_count": null,
      "outputs": [
        {
          "output_type": "execute_result",
          "data": {
            "text/plain": [
              "      Unnamed: 0  sample_index  forgetting_events   Match_label_indexs\n",
              "0              0             0                  2          [3 5 7 8 9]\n",
              "1              1             5                  0                   []\n",
              "2              2             8                  1              [6 8 9]\n",
              "3              3            33                  0                   []\n",
              "4              4            38                  0                   []\n",
              "...          ...           ...                ...                  ...\n",
              "1036        1036         11431                  2      [1 3 5 6 7 8 9]\n",
              "1037        1037         11454                  1      [2 4 5 6 7 8 9]\n",
              "1038        1038         11472                  1  [0 2 3 4 5 6 7 8 9]\n",
              "1039        1039         11493                  1      [1 4 5 6 7 8 9]\n",
              "1040        1040         11502                  1  [0 1 2 4 5 6 7 8 9]\n",
              "\n",
              "[1041 rows x 4 columns]"
            ],
            "text/html": [
              "\n",
              "  <div id=\"df-5f83478f-7431-40e6-9274-6236faaec948\">\n",
              "    <div class=\"colab-df-container\">\n",
              "      <div>\n",
              "<style scoped>\n",
              "    .dataframe tbody tr th:only-of-type {\n",
              "        vertical-align: middle;\n",
              "    }\n",
              "\n",
              "    .dataframe tbody tr th {\n",
              "        vertical-align: top;\n",
              "    }\n",
              "\n",
              "    .dataframe thead th {\n",
              "        text-align: right;\n",
              "    }\n",
              "</style>\n",
              "<table border=\"1\" class=\"dataframe\">\n",
              "  <thead>\n",
              "    <tr style=\"text-align: right;\">\n",
              "      <th></th>\n",
              "      <th>Unnamed: 0</th>\n",
              "      <th>sample_index</th>\n",
              "      <th>forgetting_events</th>\n",
              "      <th>Match_label_indexs</th>\n",
              "    </tr>\n",
              "  </thead>\n",
              "  <tbody>\n",
              "    <tr>\n",
              "      <th>0</th>\n",
              "      <td>0</td>\n",
              "      <td>0</td>\n",
              "      <td>2</td>\n",
              "      <td>[3 5 7 8 9]</td>\n",
              "    </tr>\n",
              "    <tr>\n",
              "      <th>1</th>\n",
              "      <td>1</td>\n",
              "      <td>5</td>\n",
              "      <td>0</td>\n",
              "      <td>[]</td>\n",
              "    </tr>\n",
              "    <tr>\n",
              "      <th>2</th>\n",
              "      <td>2</td>\n",
              "      <td>8</td>\n",
              "      <td>1</td>\n",
              "      <td>[6 8 9]</td>\n",
              "    </tr>\n",
              "    <tr>\n",
              "      <th>3</th>\n",
              "      <td>3</td>\n",
              "      <td>33</td>\n",
              "      <td>0</td>\n",
              "      <td>[]</td>\n",
              "    </tr>\n",
              "    <tr>\n",
              "      <th>4</th>\n",
              "      <td>4</td>\n",
              "      <td>38</td>\n",
              "      <td>0</td>\n",
              "      <td>[]</td>\n",
              "    </tr>\n",
              "    <tr>\n",
              "      <th>...</th>\n",
              "      <td>...</td>\n",
              "      <td>...</td>\n",
              "      <td>...</td>\n",
              "      <td>...</td>\n",
              "    </tr>\n",
              "    <tr>\n",
              "      <th>1036</th>\n",
              "      <td>1036</td>\n",
              "      <td>11431</td>\n",
              "      <td>2</td>\n",
              "      <td>[1 3 5 6 7 8 9]</td>\n",
              "    </tr>\n",
              "    <tr>\n",
              "      <th>1037</th>\n",
              "      <td>1037</td>\n",
              "      <td>11454</td>\n",
              "      <td>1</td>\n",
              "      <td>[2 4 5 6 7 8 9]</td>\n",
              "    </tr>\n",
              "    <tr>\n",
              "      <th>1038</th>\n",
              "      <td>1038</td>\n",
              "      <td>11472</td>\n",
              "      <td>1</td>\n",
              "      <td>[0 2 3 4 5 6 7 8 9]</td>\n",
              "    </tr>\n",
              "    <tr>\n",
              "      <th>1039</th>\n",
              "      <td>1039</td>\n",
              "      <td>11493</td>\n",
              "      <td>1</td>\n",
              "      <td>[1 4 5 6 7 8 9]</td>\n",
              "    </tr>\n",
              "    <tr>\n",
              "      <th>1040</th>\n",
              "      <td>1040</td>\n",
              "      <td>11502</td>\n",
              "      <td>1</td>\n",
              "      <td>[0 1 2 4 5 6 7 8 9]</td>\n",
              "    </tr>\n",
              "  </tbody>\n",
              "</table>\n",
              "<p>1041 rows × 4 columns</p>\n",
              "</div>\n",
              "      <button class=\"colab-df-convert\" onclick=\"convertToInteractive('df-5f83478f-7431-40e6-9274-6236faaec948')\"\n",
              "              title=\"Convert this dataframe to an interactive table.\"\n",
              "              style=\"display:none;\">\n",
              "        \n",
              "  <svg xmlns=\"http://www.w3.org/2000/svg\" height=\"24px\"viewBox=\"0 0 24 24\"\n",
              "       width=\"24px\">\n",
              "    <path d=\"M0 0h24v24H0V0z\" fill=\"none\"/>\n",
              "    <path d=\"M18.56 5.44l.94 2.06.94-2.06 2.06-.94-2.06-.94-.94-2.06-.94 2.06-2.06.94zm-11 1L8.5 8.5l.94-2.06 2.06-.94-2.06-.94L8.5 2.5l-.94 2.06-2.06.94zm10 10l.94 2.06.94-2.06 2.06-.94-2.06-.94-.94-2.06-.94 2.06-2.06.94z\"/><path d=\"M17.41 7.96l-1.37-1.37c-.4-.4-.92-.59-1.43-.59-.52 0-1.04.2-1.43.59L10.3 9.45l-7.72 7.72c-.78.78-.78 2.05 0 2.83L4 21.41c.39.39.9.59 1.41.59.51 0 1.02-.2 1.41-.59l7.78-7.78 2.81-2.81c.8-.78.8-2.07 0-2.86zM5.41 20L4 18.59l7.72-7.72 1.47 1.35L5.41 20z\"/>\n",
              "  </svg>\n",
              "      </button>\n",
              "      \n",
              "  <style>\n",
              "    .colab-df-container {\n",
              "      display:flex;\n",
              "      flex-wrap:wrap;\n",
              "      gap: 12px;\n",
              "    }\n",
              "\n",
              "    .colab-df-convert {\n",
              "      background-color: #E8F0FE;\n",
              "      border: none;\n",
              "      border-radius: 50%;\n",
              "      cursor: pointer;\n",
              "      display: none;\n",
              "      fill: #1967D2;\n",
              "      height: 32px;\n",
              "      padding: 0 0 0 0;\n",
              "      width: 32px;\n",
              "    }\n",
              "\n",
              "    .colab-df-convert:hover {\n",
              "      background-color: #E2EBFA;\n",
              "      box-shadow: 0px 1px 2px rgba(60, 64, 67, 0.3), 0px 1px 3px 1px rgba(60, 64, 67, 0.15);\n",
              "      fill: #174EA6;\n",
              "    }\n",
              "\n",
              "    [theme=dark] .colab-df-convert {\n",
              "      background-color: #3B4455;\n",
              "      fill: #D2E3FC;\n",
              "    }\n",
              "\n",
              "    [theme=dark] .colab-df-convert:hover {\n",
              "      background-color: #434B5C;\n",
              "      box-shadow: 0px 1px 3px 1px rgba(0, 0, 0, 0.15);\n",
              "      filter: drop-shadow(0px 1px 2px rgba(0, 0, 0, 0.3));\n",
              "      fill: #FFFFFF;\n",
              "    }\n",
              "  </style>\n",
              "\n",
              "      <script>\n",
              "        const buttonEl =\n",
              "          document.querySelector('#df-5f83478f-7431-40e6-9274-6236faaec948 button.colab-df-convert');\n",
              "        buttonEl.style.display =\n",
              "          google.colab.kernel.accessAllowed ? 'block' : 'none';\n",
              "\n",
              "        async function convertToInteractive(key) {\n",
              "          const element = document.querySelector('#df-5f83478f-7431-40e6-9274-6236faaec948');\n",
              "          const dataTable =\n",
              "            await google.colab.kernel.invokeFunction('convertToInteractive',\n",
              "                                                     [key], {});\n",
              "          if (!dataTable) return;\n",
              "\n",
              "          const docLinkHtml = 'Like what you see? Visit the ' +\n",
              "            '<a target=\"_blank\" href=https://colab.research.google.com/notebooks/data_table.ipynb>data table notebook</a>'\n",
              "            + ' to learn more about interactive tables.';\n",
              "          element.innerHTML = '';\n",
              "          dataTable['output_type'] = 'display_data';\n",
              "          await google.colab.output.renderOutput(dataTable, element);\n",
              "          const docLink = document.createElement('div');\n",
              "          docLink.innerHTML = docLinkHtml;\n",
              "          element.appendChild(docLink);\n",
              "        }\n",
              "      </script>\n",
              "    </div>\n",
              "  </div>\n",
              "  "
            ]
          },
          "metadata": {},
          "execution_count": 8
        }
      ]
    },
    {
      "cell_type": "code",
      "source": [
        "len(df_single_fa)"
      ],
      "metadata": {
        "colab": {
          "base_uri": "https://localhost:8080/"
        },
        "id": "T3zjtVqT6cDp",
        "outputId": "d966a9a1-7809-4387-be7c-7863d50ff210"
      },
      "execution_count": null,
      "outputs": [
        {
          "output_type": "execute_result",
          "data": {
            "text/plain": [
              "1041"
            ]
          },
          "metadata": {},
          "execution_count": 9
        }
      ]
    },
    {
      "cell_type": "code",
      "source": [
        "df_single_fa['forgetting_events'].value_counts()"
      ],
      "metadata": {
        "colab": {
          "base_uri": "https://localhost:8080/"
        },
        "id": "EyOSPovv6XPW",
        "outputId": "2033168c-cbbc-414c-ed62-aa9d052a48ea"
      },
      "execution_count": null,
      "outputs": [
        {
          "output_type": "execute_result",
          "data": {
            "text/plain": [
              "1    832\n",
              "0    105\n",
              "2     99\n",
              "3      5\n",
              "Name: forgetting_events, dtype: int64"
            ]
          },
          "metadata": {},
          "execution_count": 10
        }
      ]
    },
    {
      "cell_type": "code",
      "source": [
        "# How mant true prediction ?\n",
        "(df_single_fa[\"Match_label_indexs\"][df_single_fa[\"Match_label_indexs\"].apply(lambda x: x[1:-1].split(' ')).apply(lambda x:len(x)>=2)].apply(lambda lst: lst[-2]).astype('int') == 9).sum()"
      ],
      "metadata": {
        "colab": {
          "base_uri": "https://localhost:8080/"
        },
        "id": "EWu_ZFG4YUsY",
        "outputId": "708c80a2-f214-4bee-eb69-6b5f1d27a941"
      },
      "execution_count": null,
      "outputs": [
        {
          "output_type": "execute_result",
          "data": {
            "text/plain": [
              "887"
            ]
          },
          "metadata": {},
          "execution_count": 11
        }
      ]
    },
    {
      "cell_type": "markdown",
      "source": [
        "##En"
      ],
      "metadata": {
        "id": "MAqmhNH0IUYq"
      }
    },
    {
      "cell_type": "code",
      "source": [
        "df_single_en = pd.read_csv(\"/content/drive/MyDrive/NLP Bachelors' Project/FRG_Info(pkl files)/Single Lingual/English2_FRG_Info.csv\")\n",
        "df_single_en"
      ],
      "metadata": {
        "colab": {
          "base_uri": "https://localhost:8080/",
          "height": 423
        },
        "id": "bgNJS1IAHuQt",
        "outputId": "7f2700d8-bea0-4353-b1c4-f62fe7b1f677"
      },
      "execution_count": null,
      "outputs": [
        {
          "output_type": "execute_result",
          "data": {
            "text/plain": [
              "     Unnamed: 0  sample_index  forgetting_events   Match_label_indexs\n",
              "0             0            20                  1    [1 2 4 5 6 7 8 9]\n",
              "1             1            22                  1    [1 2 4 5 6 7 8 9]\n",
              "2             2            31                  1    [1 2 4 5 6 7 8 9]\n",
              "3             3            52                  1    [1 3 4 5 6 7 8 9]\n",
              "4             4            63                  1    [1 3 4 5 6 7 8 9]\n",
              "..          ...           ...                ...                  ...\n",
              "458         458          7542                  1  [0 2 3 4 5 6 7 8 9]\n",
              "459         459          7546                  1    [1 3 4 5 6 7 8 9]\n",
              "460         460          7554                  1  [0 2 3 4 5 6 7 8 9]\n",
              "461         461          7597                  1    [1 3 4 5 6 7 8 9]\n",
              "462         462          7598                  1  [0 2 3 4 5 6 7 8 9]\n",
              "\n",
              "[463 rows x 4 columns]"
            ],
            "text/html": [
              "\n",
              "  <div id=\"df-fe986b36-67ae-4072-b828-d6fdfb000a74\">\n",
              "    <div class=\"colab-df-container\">\n",
              "      <div>\n",
              "<style scoped>\n",
              "    .dataframe tbody tr th:only-of-type {\n",
              "        vertical-align: middle;\n",
              "    }\n",
              "\n",
              "    .dataframe tbody tr th {\n",
              "        vertical-align: top;\n",
              "    }\n",
              "\n",
              "    .dataframe thead th {\n",
              "        text-align: right;\n",
              "    }\n",
              "</style>\n",
              "<table border=\"1\" class=\"dataframe\">\n",
              "  <thead>\n",
              "    <tr style=\"text-align: right;\">\n",
              "      <th></th>\n",
              "      <th>Unnamed: 0</th>\n",
              "      <th>sample_index</th>\n",
              "      <th>forgetting_events</th>\n",
              "      <th>Match_label_indexs</th>\n",
              "    </tr>\n",
              "  </thead>\n",
              "  <tbody>\n",
              "    <tr>\n",
              "      <th>0</th>\n",
              "      <td>0</td>\n",
              "      <td>20</td>\n",
              "      <td>1</td>\n",
              "      <td>[1 2 4 5 6 7 8 9]</td>\n",
              "    </tr>\n",
              "    <tr>\n",
              "      <th>1</th>\n",
              "      <td>1</td>\n",
              "      <td>22</td>\n",
              "      <td>1</td>\n",
              "      <td>[1 2 4 5 6 7 8 9]</td>\n",
              "    </tr>\n",
              "    <tr>\n",
              "      <th>2</th>\n",
              "      <td>2</td>\n",
              "      <td>31</td>\n",
              "      <td>1</td>\n",
              "      <td>[1 2 4 5 6 7 8 9]</td>\n",
              "    </tr>\n",
              "    <tr>\n",
              "      <th>3</th>\n",
              "      <td>3</td>\n",
              "      <td>52</td>\n",
              "      <td>1</td>\n",
              "      <td>[1 3 4 5 6 7 8 9]</td>\n",
              "    </tr>\n",
              "    <tr>\n",
              "      <th>4</th>\n",
              "      <td>4</td>\n",
              "      <td>63</td>\n",
              "      <td>1</td>\n",
              "      <td>[1 3 4 5 6 7 8 9]</td>\n",
              "    </tr>\n",
              "    <tr>\n",
              "      <th>...</th>\n",
              "      <td>...</td>\n",
              "      <td>...</td>\n",
              "      <td>...</td>\n",
              "      <td>...</td>\n",
              "    </tr>\n",
              "    <tr>\n",
              "      <th>458</th>\n",
              "      <td>458</td>\n",
              "      <td>7542</td>\n",
              "      <td>1</td>\n",
              "      <td>[0 2 3 4 5 6 7 8 9]</td>\n",
              "    </tr>\n",
              "    <tr>\n",
              "      <th>459</th>\n",
              "      <td>459</td>\n",
              "      <td>7546</td>\n",
              "      <td>1</td>\n",
              "      <td>[1 3 4 5 6 7 8 9]</td>\n",
              "    </tr>\n",
              "    <tr>\n",
              "      <th>460</th>\n",
              "      <td>460</td>\n",
              "      <td>7554</td>\n",
              "      <td>1</td>\n",
              "      <td>[0 2 3 4 5 6 7 8 9]</td>\n",
              "    </tr>\n",
              "    <tr>\n",
              "      <th>461</th>\n",
              "      <td>461</td>\n",
              "      <td>7597</td>\n",
              "      <td>1</td>\n",
              "      <td>[1 3 4 5 6 7 8 9]</td>\n",
              "    </tr>\n",
              "    <tr>\n",
              "      <th>462</th>\n",
              "      <td>462</td>\n",
              "      <td>7598</td>\n",
              "      <td>1</td>\n",
              "      <td>[0 2 3 4 5 6 7 8 9]</td>\n",
              "    </tr>\n",
              "  </tbody>\n",
              "</table>\n",
              "<p>463 rows × 4 columns</p>\n",
              "</div>\n",
              "      <button class=\"colab-df-convert\" onclick=\"convertToInteractive('df-fe986b36-67ae-4072-b828-d6fdfb000a74')\"\n",
              "              title=\"Convert this dataframe to an interactive table.\"\n",
              "              style=\"display:none;\">\n",
              "        \n",
              "  <svg xmlns=\"http://www.w3.org/2000/svg\" height=\"24px\"viewBox=\"0 0 24 24\"\n",
              "       width=\"24px\">\n",
              "    <path d=\"M0 0h24v24H0V0z\" fill=\"none\"/>\n",
              "    <path d=\"M18.56 5.44l.94 2.06.94-2.06 2.06-.94-2.06-.94-.94-2.06-.94 2.06-2.06.94zm-11 1L8.5 8.5l.94-2.06 2.06-.94-2.06-.94L8.5 2.5l-.94 2.06-2.06.94zm10 10l.94 2.06.94-2.06 2.06-.94-2.06-.94-.94-2.06-.94 2.06-2.06.94z\"/><path d=\"M17.41 7.96l-1.37-1.37c-.4-.4-.92-.59-1.43-.59-.52 0-1.04.2-1.43.59L10.3 9.45l-7.72 7.72c-.78.78-.78 2.05 0 2.83L4 21.41c.39.39.9.59 1.41.59.51 0 1.02-.2 1.41-.59l7.78-7.78 2.81-2.81c.8-.78.8-2.07 0-2.86zM5.41 20L4 18.59l7.72-7.72 1.47 1.35L5.41 20z\"/>\n",
              "  </svg>\n",
              "      </button>\n",
              "      \n",
              "  <style>\n",
              "    .colab-df-container {\n",
              "      display:flex;\n",
              "      flex-wrap:wrap;\n",
              "      gap: 12px;\n",
              "    }\n",
              "\n",
              "    .colab-df-convert {\n",
              "      background-color: #E8F0FE;\n",
              "      border: none;\n",
              "      border-radius: 50%;\n",
              "      cursor: pointer;\n",
              "      display: none;\n",
              "      fill: #1967D2;\n",
              "      height: 32px;\n",
              "      padding: 0 0 0 0;\n",
              "      width: 32px;\n",
              "    }\n",
              "\n",
              "    .colab-df-convert:hover {\n",
              "      background-color: #E2EBFA;\n",
              "      box-shadow: 0px 1px 2px rgba(60, 64, 67, 0.3), 0px 1px 3px 1px rgba(60, 64, 67, 0.15);\n",
              "      fill: #174EA6;\n",
              "    }\n",
              "\n",
              "    [theme=dark] .colab-df-convert {\n",
              "      background-color: #3B4455;\n",
              "      fill: #D2E3FC;\n",
              "    }\n",
              "\n",
              "    [theme=dark] .colab-df-convert:hover {\n",
              "      background-color: #434B5C;\n",
              "      box-shadow: 0px 1px 3px 1px rgba(0, 0, 0, 0.15);\n",
              "      filter: drop-shadow(0px 1px 2px rgba(0, 0, 0, 0.3));\n",
              "      fill: #FFFFFF;\n",
              "    }\n",
              "  </style>\n",
              "\n",
              "      <script>\n",
              "        const buttonEl =\n",
              "          document.querySelector('#df-fe986b36-67ae-4072-b828-d6fdfb000a74 button.colab-df-convert');\n",
              "        buttonEl.style.display =\n",
              "          google.colab.kernel.accessAllowed ? 'block' : 'none';\n",
              "\n",
              "        async function convertToInteractive(key) {\n",
              "          const element = document.querySelector('#df-fe986b36-67ae-4072-b828-d6fdfb000a74');\n",
              "          const dataTable =\n",
              "            await google.colab.kernel.invokeFunction('convertToInteractive',\n",
              "                                                     [key], {});\n",
              "          if (!dataTable) return;\n",
              "\n",
              "          const docLinkHtml = 'Like what you see? Visit the ' +\n",
              "            '<a target=\"_blank\" href=https://colab.research.google.com/notebooks/data_table.ipynb>data table notebook</a>'\n",
              "            + ' to learn more about interactive tables.';\n",
              "          element.innerHTML = '';\n",
              "          dataTable['output_type'] = 'display_data';\n",
              "          await google.colab.output.renderOutput(dataTable, element);\n",
              "          const docLink = document.createElement('div');\n",
              "          docLink.innerHTML = docLinkHtml;\n",
              "          element.appendChild(docLink);\n",
              "        }\n",
              "      </script>\n",
              "    </div>\n",
              "  </div>\n",
              "  "
            ]
          },
          "metadata": {},
          "execution_count": 12
        }
      ]
    },
    {
      "cell_type": "code",
      "source": [
        "len(df_single_en)"
      ],
      "metadata": {
        "id": "WDD5p4wo6va1",
        "colab": {
          "base_uri": "https://localhost:8080/"
        },
        "outputId": "321e8d94-d17c-4a2a-a12e-10973fa0b3ef"
      },
      "execution_count": null,
      "outputs": [
        {
          "output_type": "execute_result",
          "data": {
            "text/plain": [
              "463"
            ]
          },
          "metadata": {},
          "execution_count": 13
        }
      ]
    },
    {
      "cell_type": "code",
      "source": [
        "df_single_en['forgetting_events'].value_counts()"
      ],
      "metadata": {
        "id": "wzxGvWyP6xiB",
        "colab": {
          "base_uri": "https://localhost:8080/"
        },
        "outputId": "c7ab5106-ca66-4fb3-d814-52b9cfaf1ebf"
      },
      "execution_count": null,
      "outputs": [
        {
          "output_type": "execute_result",
          "data": {
            "text/plain": [
              "1    434\n",
              "2     19\n",
              "0      8\n",
              "3      2\n",
              "Name: forgetting_events, dtype: int64"
            ]
          },
          "metadata": {},
          "execution_count": 14
        }
      ]
    },
    {
      "cell_type": "code",
      "source": [
        "# How mant true prediction ?\n",
        "(df_single_en[\"Match_label_indexs\"][df_single_en[\"Match_label_indexs\"].apply(lambda x: x[1:-1].split(' ')).apply(lambda x:len(x)>=2)].apply(lambda lst: lst[-2]).astype('int') == 9).sum()"
      ],
      "metadata": {
        "id": "nIMB3KGeYd8T",
        "colab": {
          "base_uri": "https://localhost:8080/"
        },
        "outputId": "36b828bc-1ab8-415c-802e-2c479ad72683"
      },
      "execution_count": null,
      "outputs": [
        {
          "output_type": "execute_result",
          "data": {
            "text/plain": [
              "448"
            ]
          },
          "metadata": {},
          "execution_count": 15
        }
      ]
    },
    {
      "cell_type": "markdown",
      "source": [
        "# **Multi Source(The combination of 2 of 3 sources)**"
      ],
      "metadata": {
        "id": "hk6TGCQkJQRX"
      }
    },
    {
      "cell_type": "markdown",
      "source": [
        "## *Similar(English and French)*"
      ],
      "metadata": {
        "id": "8Ei7Wer-JfFX"
      }
    },
    {
      "cell_type": "markdown",
      "source": [
        "###Forgettables for English"
      ],
      "metadata": {
        "id": "DfBh0S2EJm1k"
      }
    },
    {
      "cell_type": "code",
      "source": [
        "# df_multi_en_enfr = pd.read_csv(\"/content/drive/MyDrive/NLP Bachelors' Project/FRG_Info(csv files)/Multi Source/intent_en_10epochs_enfr_Info.csv\")\n",
        "df_multi_en_enfr = pd.read_csv(\"/content/drive/MyDrive/NLP Bachelors' Project/FRG_Info(pkl files)/Multi Lingual/English2_MLL_FRG_Info_FREN2.csv\")\n",
        "df_multi_en_enfr"
      ],
      "metadata": {
        "id": "ZcilQG1JIwK4",
        "colab": {
          "base_uri": "https://localhost:8080/",
          "height": 423
        },
        "outputId": "3f6ff9ad-fb9b-4ab2-cc11-5fc48c2f89c0"
      },
      "execution_count": null,
      "outputs": [
        {
          "output_type": "execute_result",
          "data": {
            "text/plain": [
              "     Unnamed: 0  sample_index  forgetting_events   Match_label_indexs\n",
              "0             0            12                  1      [2 4 5 6 7 8 9]\n",
              "1             1            31                  1    [1 2 3 4 6 7 8 9]\n",
              "2             2            71                  1    [1 2 4 5 6 7 8 9]\n",
              "3             3           110                  1    [1 3 4 5 6 7 8 9]\n",
              "4             4           209                  1    [1 3 4 5 6 7 8 9]\n",
              "..          ...           ...                ...                  ...\n",
              "421         421          7500                  1  [0 2 3 4 5 6 7 8 9]\n",
              "422         422          7513                  1  [0 2 3 4 5 6 7 8 9]\n",
              "423         423          7514                  1  [0 2 3 4 5 6 7 8 9]\n",
              "424         424          7554                  1      [2 4 5 6 7 8 9]\n",
              "425         425          7564                  1      [2 4 5 6 7 8 9]\n",
              "\n",
              "[426 rows x 4 columns]"
            ],
            "text/html": [
              "\n",
              "  <div id=\"df-6a609228-1495-46f2-9017-56000ca009aa\">\n",
              "    <div class=\"colab-df-container\">\n",
              "      <div>\n",
              "<style scoped>\n",
              "    .dataframe tbody tr th:only-of-type {\n",
              "        vertical-align: middle;\n",
              "    }\n",
              "\n",
              "    .dataframe tbody tr th {\n",
              "        vertical-align: top;\n",
              "    }\n",
              "\n",
              "    .dataframe thead th {\n",
              "        text-align: right;\n",
              "    }\n",
              "</style>\n",
              "<table border=\"1\" class=\"dataframe\">\n",
              "  <thead>\n",
              "    <tr style=\"text-align: right;\">\n",
              "      <th></th>\n",
              "      <th>Unnamed: 0</th>\n",
              "      <th>sample_index</th>\n",
              "      <th>forgetting_events</th>\n",
              "      <th>Match_label_indexs</th>\n",
              "    </tr>\n",
              "  </thead>\n",
              "  <tbody>\n",
              "    <tr>\n",
              "      <th>0</th>\n",
              "      <td>0</td>\n",
              "      <td>12</td>\n",
              "      <td>1</td>\n",
              "      <td>[2 4 5 6 7 8 9]</td>\n",
              "    </tr>\n",
              "    <tr>\n",
              "      <th>1</th>\n",
              "      <td>1</td>\n",
              "      <td>31</td>\n",
              "      <td>1</td>\n",
              "      <td>[1 2 3 4 6 7 8 9]</td>\n",
              "    </tr>\n",
              "    <tr>\n",
              "      <th>2</th>\n",
              "      <td>2</td>\n",
              "      <td>71</td>\n",
              "      <td>1</td>\n",
              "      <td>[1 2 4 5 6 7 8 9]</td>\n",
              "    </tr>\n",
              "    <tr>\n",
              "      <th>3</th>\n",
              "      <td>3</td>\n",
              "      <td>110</td>\n",
              "      <td>1</td>\n",
              "      <td>[1 3 4 5 6 7 8 9]</td>\n",
              "    </tr>\n",
              "    <tr>\n",
              "      <th>4</th>\n",
              "      <td>4</td>\n",
              "      <td>209</td>\n",
              "      <td>1</td>\n",
              "      <td>[1 3 4 5 6 7 8 9]</td>\n",
              "    </tr>\n",
              "    <tr>\n",
              "      <th>...</th>\n",
              "      <td>...</td>\n",
              "      <td>...</td>\n",
              "      <td>...</td>\n",
              "      <td>...</td>\n",
              "    </tr>\n",
              "    <tr>\n",
              "      <th>421</th>\n",
              "      <td>421</td>\n",
              "      <td>7500</td>\n",
              "      <td>1</td>\n",
              "      <td>[0 2 3 4 5 6 7 8 9]</td>\n",
              "    </tr>\n",
              "    <tr>\n",
              "      <th>422</th>\n",
              "      <td>422</td>\n",
              "      <td>7513</td>\n",
              "      <td>1</td>\n",
              "      <td>[0 2 3 4 5 6 7 8 9]</td>\n",
              "    </tr>\n",
              "    <tr>\n",
              "      <th>423</th>\n",
              "      <td>423</td>\n",
              "      <td>7514</td>\n",
              "      <td>1</td>\n",
              "      <td>[0 2 3 4 5 6 7 8 9]</td>\n",
              "    </tr>\n",
              "    <tr>\n",
              "      <th>424</th>\n",
              "      <td>424</td>\n",
              "      <td>7554</td>\n",
              "      <td>1</td>\n",
              "      <td>[2 4 5 6 7 8 9]</td>\n",
              "    </tr>\n",
              "    <tr>\n",
              "      <th>425</th>\n",
              "      <td>425</td>\n",
              "      <td>7564</td>\n",
              "      <td>1</td>\n",
              "      <td>[2 4 5 6 7 8 9]</td>\n",
              "    </tr>\n",
              "  </tbody>\n",
              "</table>\n",
              "<p>426 rows × 4 columns</p>\n",
              "</div>\n",
              "      <button class=\"colab-df-convert\" onclick=\"convertToInteractive('df-6a609228-1495-46f2-9017-56000ca009aa')\"\n",
              "              title=\"Convert this dataframe to an interactive table.\"\n",
              "              style=\"display:none;\">\n",
              "        \n",
              "  <svg xmlns=\"http://www.w3.org/2000/svg\" height=\"24px\"viewBox=\"0 0 24 24\"\n",
              "       width=\"24px\">\n",
              "    <path d=\"M0 0h24v24H0V0z\" fill=\"none\"/>\n",
              "    <path d=\"M18.56 5.44l.94 2.06.94-2.06 2.06-.94-2.06-.94-.94-2.06-.94 2.06-2.06.94zm-11 1L8.5 8.5l.94-2.06 2.06-.94-2.06-.94L8.5 2.5l-.94 2.06-2.06.94zm10 10l.94 2.06.94-2.06 2.06-.94-2.06-.94-.94-2.06-.94 2.06-2.06.94z\"/><path d=\"M17.41 7.96l-1.37-1.37c-.4-.4-.92-.59-1.43-.59-.52 0-1.04.2-1.43.59L10.3 9.45l-7.72 7.72c-.78.78-.78 2.05 0 2.83L4 21.41c.39.39.9.59 1.41.59.51 0 1.02-.2 1.41-.59l7.78-7.78 2.81-2.81c.8-.78.8-2.07 0-2.86zM5.41 20L4 18.59l7.72-7.72 1.47 1.35L5.41 20z\"/>\n",
              "  </svg>\n",
              "      </button>\n",
              "      \n",
              "  <style>\n",
              "    .colab-df-container {\n",
              "      display:flex;\n",
              "      flex-wrap:wrap;\n",
              "      gap: 12px;\n",
              "    }\n",
              "\n",
              "    .colab-df-convert {\n",
              "      background-color: #E8F0FE;\n",
              "      border: none;\n",
              "      border-radius: 50%;\n",
              "      cursor: pointer;\n",
              "      display: none;\n",
              "      fill: #1967D2;\n",
              "      height: 32px;\n",
              "      padding: 0 0 0 0;\n",
              "      width: 32px;\n",
              "    }\n",
              "\n",
              "    .colab-df-convert:hover {\n",
              "      background-color: #E2EBFA;\n",
              "      box-shadow: 0px 1px 2px rgba(60, 64, 67, 0.3), 0px 1px 3px 1px rgba(60, 64, 67, 0.15);\n",
              "      fill: #174EA6;\n",
              "    }\n",
              "\n",
              "    [theme=dark] .colab-df-convert {\n",
              "      background-color: #3B4455;\n",
              "      fill: #D2E3FC;\n",
              "    }\n",
              "\n",
              "    [theme=dark] .colab-df-convert:hover {\n",
              "      background-color: #434B5C;\n",
              "      box-shadow: 0px 1px 3px 1px rgba(0, 0, 0, 0.15);\n",
              "      filter: drop-shadow(0px 1px 2px rgba(0, 0, 0, 0.3));\n",
              "      fill: #FFFFFF;\n",
              "    }\n",
              "  </style>\n",
              "\n",
              "      <script>\n",
              "        const buttonEl =\n",
              "          document.querySelector('#df-6a609228-1495-46f2-9017-56000ca009aa button.colab-df-convert');\n",
              "        buttonEl.style.display =\n",
              "          google.colab.kernel.accessAllowed ? 'block' : 'none';\n",
              "\n",
              "        async function convertToInteractive(key) {\n",
              "          const element = document.querySelector('#df-6a609228-1495-46f2-9017-56000ca009aa');\n",
              "          const dataTable =\n",
              "            await google.colab.kernel.invokeFunction('convertToInteractive',\n",
              "                                                     [key], {});\n",
              "          if (!dataTable) return;\n",
              "\n",
              "          const docLinkHtml = 'Like what you see? Visit the ' +\n",
              "            '<a target=\"_blank\" href=https://colab.research.google.com/notebooks/data_table.ipynb>data table notebook</a>'\n",
              "            + ' to learn more about interactive tables.';\n",
              "          element.innerHTML = '';\n",
              "          dataTable['output_type'] = 'display_data';\n",
              "          await google.colab.output.renderOutput(dataTable, element);\n",
              "          const docLink = document.createElement('div');\n",
              "          docLink.innerHTML = docLinkHtml;\n",
              "          element.appendChild(docLink);\n",
              "        }\n",
              "      </script>\n",
              "    </div>\n",
              "  </div>\n",
              "  "
            ]
          },
          "metadata": {},
          "execution_count": 16
        }
      ]
    },
    {
      "cell_type": "code",
      "source": [
        "# How many true prediction ?\n",
        "(df_multi_en_enfr[\"Match_label_indexs\"][df_multi_en_enfr[\"Match_label_indexs\"].apply(lambda x: x[1:-1].split(' ')).apply(lambda x:len(x)>=2)].apply(lambda lst: lst[-2]).astype('int') == 9).sum()"
      ],
      "metadata": {
        "id": "uvC-NHw-Yhiu",
        "colab": {
          "base_uri": "https://localhost:8080/"
        },
        "outputId": "041ef1ed-75af-4701-9417-ccf4ed9fc2ab"
      },
      "execution_count": null,
      "outputs": [
        {
          "output_type": "execute_result",
          "data": {
            "text/plain": [
              "411"
            ]
          },
          "metadata": {},
          "execution_count": 17
        }
      ]
    },
    {
      "cell_type": "code",
      "source": [
        "df_multi_en_enfr['forgetting_events'].value_counts()"
      ],
      "metadata": {
        "id": "YVbKHKmHJ9yQ",
        "colab": {
          "base_uri": "https://localhost:8080/"
        },
        "outputId": "563ebb89-91bf-44d5-d681-b2778e43e7a3"
      },
      "execution_count": null,
      "outputs": [
        {
          "output_type": "execute_result",
          "data": {
            "text/plain": [
              "1    399\n",
              "2     15\n",
              "0     12\n",
              "Name: forgetting_events, dtype: int64"
            ]
          },
          "metadata": {},
          "execution_count": 18
        }
      ]
    },
    {
      "cell_type": "code",
      "source": [
        "df_multi_en_enfr[df_multi_en_enfr['forgetting_events']==2]"
      ],
      "metadata": {
        "id": "wMk6_9hkq1WW",
        "colab": {
          "base_uri": "https://localhost:8080/",
          "height": 519
        },
        "outputId": "027ac89d-f158-4924-c6b6-ed19f3ef007b"
      },
      "execution_count": null,
      "outputs": [
        {
          "output_type": "execute_result",
          "data": {
            "text/plain": [
              "     Unnamed: 0  sample_index  forgetting_events Match_label_indexs\n",
              "47           47          1014                  2      [2 3 5 7 8 9]\n",
              "67           67          1497                  2            [1 7 8]\n",
              "130         130          2780                  2            [1 6 9]\n",
              "144         144          3022                  2    [1 3 5 6 7 8 9]\n",
              "150         150          3104                  2      [1 4 5 7 8 9]\n",
              "155         155          3180                  2    [0 3 4 6 7 8 9]\n",
              "222         222          4042                  2    [0 2 5 6 7 8 9]\n",
              "276         276          4955                  2    [0 3 5 6 7 8 9]\n",
              "277         277          4960                  2    [0 3 5 6 7 8 9]\n",
              "334         334          6003                  2  [0 2 3 5 6 7 8 9]\n",
              "342         342          6169                  2    [1 3 4 5 6 7 9]\n",
              "361         361          6472                  2    [1 2 3 4 6 7 9]\n",
              "377         377          6772                  2      [2 3 4 6 8 9]\n",
              "400         400          7131                  2      [0 4 5 7 8 9]\n",
              "409         409          7281                  2  [0 1 3 5 6 7 8 9]"
            ],
            "text/html": [
              "\n",
              "  <div id=\"df-1fd8d385-ac73-4ec3-9d1f-ffb159224ce7\">\n",
              "    <div class=\"colab-df-container\">\n",
              "      <div>\n",
              "<style scoped>\n",
              "    .dataframe tbody tr th:only-of-type {\n",
              "        vertical-align: middle;\n",
              "    }\n",
              "\n",
              "    .dataframe tbody tr th {\n",
              "        vertical-align: top;\n",
              "    }\n",
              "\n",
              "    .dataframe thead th {\n",
              "        text-align: right;\n",
              "    }\n",
              "</style>\n",
              "<table border=\"1\" class=\"dataframe\">\n",
              "  <thead>\n",
              "    <tr style=\"text-align: right;\">\n",
              "      <th></th>\n",
              "      <th>Unnamed: 0</th>\n",
              "      <th>sample_index</th>\n",
              "      <th>forgetting_events</th>\n",
              "      <th>Match_label_indexs</th>\n",
              "    </tr>\n",
              "  </thead>\n",
              "  <tbody>\n",
              "    <tr>\n",
              "      <th>47</th>\n",
              "      <td>47</td>\n",
              "      <td>1014</td>\n",
              "      <td>2</td>\n",
              "      <td>[2 3 5 7 8 9]</td>\n",
              "    </tr>\n",
              "    <tr>\n",
              "      <th>67</th>\n",
              "      <td>67</td>\n",
              "      <td>1497</td>\n",
              "      <td>2</td>\n",
              "      <td>[1 7 8]</td>\n",
              "    </tr>\n",
              "    <tr>\n",
              "      <th>130</th>\n",
              "      <td>130</td>\n",
              "      <td>2780</td>\n",
              "      <td>2</td>\n",
              "      <td>[1 6 9]</td>\n",
              "    </tr>\n",
              "    <tr>\n",
              "      <th>144</th>\n",
              "      <td>144</td>\n",
              "      <td>3022</td>\n",
              "      <td>2</td>\n",
              "      <td>[1 3 5 6 7 8 9]</td>\n",
              "    </tr>\n",
              "    <tr>\n",
              "      <th>150</th>\n",
              "      <td>150</td>\n",
              "      <td>3104</td>\n",
              "      <td>2</td>\n",
              "      <td>[1 4 5 7 8 9]</td>\n",
              "    </tr>\n",
              "    <tr>\n",
              "      <th>155</th>\n",
              "      <td>155</td>\n",
              "      <td>3180</td>\n",
              "      <td>2</td>\n",
              "      <td>[0 3 4 6 7 8 9]</td>\n",
              "    </tr>\n",
              "    <tr>\n",
              "      <th>222</th>\n",
              "      <td>222</td>\n",
              "      <td>4042</td>\n",
              "      <td>2</td>\n",
              "      <td>[0 2 5 6 7 8 9]</td>\n",
              "    </tr>\n",
              "    <tr>\n",
              "      <th>276</th>\n",
              "      <td>276</td>\n",
              "      <td>4955</td>\n",
              "      <td>2</td>\n",
              "      <td>[0 3 5 6 7 8 9]</td>\n",
              "    </tr>\n",
              "    <tr>\n",
              "      <th>277</th>\n",
              "      <td>277</td>\n",
              "      <td>4960</td>\n",
              "      <td>2</td>\n",
              "      <td>[0 3 5 6 7 8 9]</td>\n",
              "    </tr>\n",
              "    <tr>\n",
              "      <th>334</th>\n",
              "      <td>334</td>\n",
              "      <td>6003</td>\n",
              "      <td>2</td>\n",
              "      <td>[0 2 3 5 6 7 8 9]</td>\n",
              "    </tr>\n",
              "    <tr>\n",
              "      <th>342</th>\n",
              "      <td>342</td>\n",
              "      <td>6169</td>\n",
              "      <td>2</td>\n",
              "      <td>[1 3 4 5 6 7 9]</td>\n",
              "    </tr>\n",
              "    <tr>\n",
              "      <th>361</th>\n",
              "      <td>361</td>\n",
              "      <td>6472</td>\n",
              "      <td>2</td>\n",
              "      <td>[1 2 3 4 6 7 9]</td>\n",
              "    </tr>\n",
              "    <tr>\n",
              "      <th>377</th>\n",
              "      <td>377</td>\n",
              "      <td>6772</td>\n",
              "      <td>2</td>\n",
              "      <td>[2 3 4 6 8 9]</td>\n",
              "    </tr>\n",
              "    <tr>\n",
              "      <th>400</th>\n",
              "      <td>400</td>\n",
              "      <td>7131</td>\n",
              "      <td>2</td>\n",
              "      <td>[0 4 5 7 8 9]</td>\n",
              "    </tr>\n",
              "    <tr>\n",
              "      <th>409</th>\n",
              "      <td>409</td>\n",
              "      <td>7281</td>\n",
              "      <td>2</td>\n",
              "      <td>[0 1 3 5 6 7 8 9]</td>\n",
              "    </tr>\n",
              "  </tbody>\n",
              "</table>\n",
              "</div>\n",
              "      <button class=\"colab-df-convert\" onclick=\"convertToInteractive('df-1fd8d385-ac73-4ec3-9d1f-ffb159224ce7')\"\n",
              "              title=\"Convert this dataframe to an interactive table.\"\n",
              "              style=\"display:none;\">\n",
              "        \n",
              "  <svg xmlns=\"http://www.w3.org/2000/svg\" height=\"24px\"viewBox=\"0 0 24 24\"\n",
              "       width=\"24px\">\n",
              "    <path d=\"M0 0h24v24H0V0z\" fill=\"none\"/>\n",
              "    <path d=\"M18.56 5.44l.94 2.06.94-2.06 2.06-.94-2.06-.94-.94-2.06-.94 2.06-2.06.94zm-11 1L8.5 8.5l.94-2.06 2.06-.94-2.06-.94L8.5 2.5l-.94 2.06-2.06.94zm10 10l.94 2.06.94-2.06 2.06-.94-2.06-.94-.94-2.06-.94 2.06-2.06.94z\"/><path d=\"M17.41 7.96l-1.37-1.37c-.4-.4-.92-.59-1.43-.59-.52 0-1.04.2-1.43.59L10.3 9.45l-7.72 7.72c-.78.78-.78 2.05 0 2.83L4 21.41c.39.39.9.59 1.41.59.51 0 1.02-.2 1.41-.59l7.78-7.78 2.81-2.81c.8-.78.8-2.07 0-2.86zM5.41 20L4 18.59l7.72-7.72 1.47 1.35L5.41 20z\"/>\n",
              "  </svg>\n",
              "      </button>\n",
              "      \n",
              "  <style>\n",
              "    .colab-df-container {\n",
              "      display:flex;\n",
              "      flex-wrap:wrap;\n",
              "      gap: 12px;\n",
              "    }\n",
              "\n",
              "    .colab-df-convert {\n",
              "      background-color: #E8F0FE;\n",
              "      border: none;\n",
              "      border-radius: 50%;\n",
              "      cursor: pointer;\n",
              "      display: none;\n",
              "      fill: #1967D2;\n",
              "      height: 32px;\n",
              "      padding: 0 0 0 0;\n",
              "      width: 32px;\n",
              "    }\n",
              "\n",
              "    .colab-df-convert:hover {\n",
              "      background-color: #E2EBFA;\n",
              "      box-shadow: 0px 1px 2px rgba(60, 64, 67, 0.3), 0px 1px 3px 1px rgba(60, 64, 67, 0.15);\n",
              "      fill: #174EA6;\n",
              "    }\n",
              "\n",
              "    [theme=dark] .colab-df-convert {\n",
              "      background-color: #3B4455;\n",
              "      fill: #D2E3FC;\n",
              "    }\n",
              "\n",
              "    [theme=dark] .colab-df-convert:hover {\n",
              "      background-color: #434B5C;\n",
              "      box-shadow: 0px 1px 3px 1px rgba(0, 0, 0, 0.15);\n",
              "      filter: drop-shadow(0px 1px 2px rgba(0, 0, 0, 0.3));\n",
              "      fill: #FFFFFF;\n",
              "    }\n",
              "  </style>\n",
              "\n",
              "      <script>\n",
              "        const buttonEl =\n",
              "          document.querySelector('#df-1fd8d385-ac73-4ec3-9d1f-ffb159224ce7 button.colab-df-convert');\n",
              "        buttonEl.style.display =\n",
              "          google.colab.kernel.accessAllowed ? 'block' : 'none';\n",
              "\n",
              "        async function convertToInteractive(key) {\n",
              "          const element = document.querySelector('#df-1fd8d385-ac73-4ec3-9d1f-ffb159224ce7');\n",
              "          const dataTable =\n",
              "            await google.colab.kernel.invokeFunction('convertToInteractive',\n",
              "                                                     [key], {});\n",
              "          if (!dataTable) return;\n",
              "\n",
              "          const docLinkHtml = 'Like what you see? Visit the ' +\n",
              "            '<a target=\"_blank\" href=https://colab.research.google.com/notebooks/data_table.ipynb>data table notebook</a>'\n",
              "            + ' to learn more about interactive tables.';\n",
              "          element.innerHTML = '';\n",
              "          dataTable['output_type'] = 'display_data';\n",
              "          await google.colab.output.renderOutput(dataTable, element);\n",
              "          const docLink = document.createElement('div');\n",
              "          docLink.innerHTML = docLinkHtml;\n",
              "          element.appendChild(docLink);\n",
              "        }\n",
              "      </script>\n",
              "    </div>\n",
              "  </div>\n",
              "  "
            ]
          },
          "metadata": {},
          "execution_count": 19
        }
      ]
    },
    {
      "cell_type": "markdown",
      "source": [
        "###Forgettables for French\n"
      ],
      "metadata": {
        "id": "IMAZIdE8Kjgf"
      }
    },
    {
      "cell_type": "code",
      "source": [
        "# df_multi_fr_enfr = pd.read_csv(\"/content/drive/MyDrive/NLP Bachelors' Project/FRG_Info(csv files)/Multi Source/intent_fr_10epochs_enfr_Info.csv\")\n",
        "df_multi_fr_enfr = pd.read_csv(\"/content/drive/MyDrive/NLP Bachelors' Project/FRG_Info(pkl files)/Multi Lingual/French2_MLL_FRG_Info_FREN2.csv\")\n",
        "df_multi_fr_enfr"
      ],
      "metadata": {
        "id": "XqrosGL2KRpj",
        "colab": {
          "base_uri": "https://localhost:8080/",
          "height": 423
        },
        "outputId": "4fa7056c-6976-47b4-f9de-1b88cd996645"
      },
      "execution_count": null,
      "outputs": [
        {
          "output_type": "execute_result",
          "data": {
            "text/plain": [
              "     Unnamed: 0  sample_index  forgetting_events   Match_label_indexs\n",
              "0             0             2                  1            [0 1 2 3]\n",
              "1             1            34                  1      [2 4 5 6 7 8 9]\n",
              "2             2            37                  1  [0 1 3 4 5 6 7 8 9]\n",
              "3             3            62                  1      [2 4 5 6 7 8 9]\n",
              "4             4            66                  1                [5 6]\n",
              "..          ...           ...                ...                  ...\n",
              "986         986          8411                  1          [0 6 7 8 9]\n",
              "987         987          8432                  0                   []\n",
              "988         988          8438                  0                   []\n",
              "989         989          8444                  1      [2 3 5 6 7 8 9]\n",
              "990         990          8450                  1    [0 3 4 5 6 7 8 9]\n",
              "\n",
              "[991 rows x 4 columns]"
            ],
            "text/html": [
              "\n",
              "  <div id=\"df-3c077ee8-26fa-4680-85e2-0da2aa728d7a\">\n",
              "    <div class=\"colab-df-container\">\n",
              "      <div>\n",
              "<style scoped>\n",
              "    .dataframe tbody tr th:only-of-type {\n",
              "        vertical-align: middle;\n",
              "    }\n",
              "\n",
              "    .dataframe tbody tr th {\n",
              "        vertical-align: top;\n",
              "    }\n",
              "\n",
              "    .dataframe thead th {\n",
              "        text-align: right;\n",
              "    }\n",
              "</style>\n",
              "<table border=\"1\" class=\"dataframe\">\n",
              "  <thead>\n",
              "    <tr style=\"text-align: right;\">\n",
              "      <th></th>\n",
              "      <th>Unnamed: 0</th>\n",
              "      <th>sample_index</th>\n",
              "      <th>forgetting_events</th>\n",
              "      <th>Match_label_indexs</th>\n",
              "    </tr>\n",
              "  </thead>\n",
              "  <tbody>\n",
              "    <tr>\n",
              "      <th>0</th>\n",
              "      <td>0</td>\n",
              "      <td>2</td>\n",
              "      <td>1</td>\n",
              "      <td>[0 1 2 3]</td>\n",
              "    </tr>\n",
              "    <tr>\n",
              "      <th>1</th>\n",
              "      <td>1</td>\n",
              "      <td>34</td>\n",
              "      <td>1</td>\n",
              "      <td>[2 4 5 6 7 8 9]</td>\n",
              "    </tr>\n",
              "    <tr>\n",
              "      <th>2</th>\n",
              "      <td>2</td>\n",
              "      <td>37</td>\n",
              "      <td>1</td>\n",
              "      <td>[0 1 3 4 5 6 7 8 9]</td>\n",
              "    </tr>\n",
              "    <tr>\n",
              "      <th>3</th>\n",
              "      <td>3</td>\n",
              "      <td>62</td>\n",
              "      <td>1</td>\n",
              "      <td>[2 4 5 6 7 8 9]</td>\n",
              "    </tr>\n",
              "    <tr>\n",
              "      <th>4</th>\n",
              "      <td>4</td>\n",
              "      <td>66</td>\n",
              "      <td>1</td>\n",
              "      <td>[5 6]</td>\n",
              "    </tr>\n",
              "    <tr>\n",
              "      <th>...</th>\n",
              "      <td>...</td>\n",
              "      <td>...</td>\n",
              "      <td>...</td>\n",
              "      <td>...</td>\n",
              "    </tr>\n",
              "    <tr>\n",
              "      <th>986</th>\n",
              "      <td>986</td>\n",
              "      <td>8411</td>\n",
              "      <td>1</td>\n",
              "      <td>[0 6 7 8 9]</td>\n",
              "    </tr>\n",
              "    <tr>\n",
              "      <th>987</th>\n",
              "      <td>987</td>\n",
              "      <td>8432</td>\n",
              "      <td>0</td>\n",
              "      <td>[]</td>\n",
              "    </tr>\n",
              "    <tr>\n",
              "      <th>988</th>\n",
              "      <td>988</td>\n",
              "      <td>8438</td>\n",
              "      <td>0</td>\n",
              "      <td>[]</td>\n",
              "    </tr>\n",
              "    <tr>\n",
              "      <th>989</th>\n",
              "      <td>989</td>\n",
              "      <td>8444</td>\n",
              "      <td>1</td>\n",
              "      <td>[2 3 5 6 7 8 9]</td>\n",
              "    </tr>\n",
              "    <tr>\n",
              "      <th>990</th>\n",
              "      <td>990</td>\n",
              "      <td>8450</td>\n",
              "      <td>1</td>\n",
              "      <td>[0 3 4 5 6 7 8 9]</td>\n",
              "    </tr>\n",
              "  </tbody>\n",
              "</table>\n",
              "<p>991 rows × 4 columns</p>\n",
              "</div>\n",
              "      <button class=\"colab-df-convert\" onclick=\"convertToInteractive('df-3c077ee8-26fa-4680-85e2-0da2aa728d7a')\"\n",
              "              title=\"Convert this dataframe to an interactive table.\"\n",
              "              style=\"display:none;\">\n",
              "        \n",
              "  <svg xmlns=\"http://www.w3.org/2000/svg\" height=\"24px\"viewBox=\"0 0 24 24\"\n",
              "       width=\"24px\">\n",
              "    <path d=\"M0 0h24v24H0V0z\" fill=\"none\"/>\n",
              "    <path d=\"M18.56 5.44l.94 2.06.94-2.06 2.06-.94-2.06-.94-.94-2.06-.94 2.06-2.06.94zm-11 1L8.5 8.5l.94-2.06 2.06-.94-2.06-.94L8.5 2.5l-.94 2.06-2.06.94zm10 10l.94 2.06.94-2.06 2.06-.94-2.06-.94-.94-2.06-.94 2.06-2.06.94z\"/><path d=\"M17.41 7.96l-1.37-1.37c-.4-.4-.92-.59-1.43-.59-.52 0-1.04.2-1.43.59L10.3 9.45l-7.72 7.72c-.78.78-.78 2.05 0 2.83L4 21.41c.39.39.9.59 1.41.59.51 0 1.02-.2 1.41-.59l7.78-7.78 2.81-2.81c.8-.78.8-2.07 0-2.86zM5.41 20L4 18.59l7.72-7.72 1.47 1.35L5.41 20z\"/>\n",
              "  </svg>\n",
              "      </button>\n",
              "      \n",
              "  <style>\n",
              "    .colab-df-container {\n",
              "      display:flex;\n",
              "      flex-wrap:wrap;\n",
              "      gap: 12px;\n",
              "    }\n",
              "\n",
              "    .colab-df-convert {\n",
              "      background-color: #E8F0FE;\n",
              "      border: none;\n",
              "      border-radius: 50%;\n",
              "      cursor: pointer;\n",
              "      display: none;\n",
              "      fill: #1967D2;\n",
              "      height: 32px;\n",
              "      padding: 0 0 0 0;\n",
              "      width: 32px;\n",
              "    }\n",
              "\n",
              "    .colab-df-convert:hover {\n",
              "      background-color: #E2EBFA;\n",
              "      box-shadow: 0px 1px 2px rgba(60, 64, 67, 0.3), 0px 1px 3px 1px rgba(60, 64, 67, 0.15);\n",
              "      fill: #174EA6;\n",
              "    }\n",
              "\n",
              "    [theme=dark] .colab-df-convert {\n",
              "      background-color: #3B4455;\n",
              "      fill: #D2E3FC;\n",
              "    }\n",
              "\n",
              "    [theme=dark] .colab-df-convert:hover {\n",
              "      background-color: #434B5C;\n",
              "      box-shadow: 0px 1px 3px 1px rgba(0, 0, 0, 0.15);\n",
              "      filter: drop-shadow(0px 1px 2px rgba(0, 0, 0, 0.3));\n",
              "      fill: #FFFFFF;\n",
              "    }\n",
              "  </style>\n",
              "\n",
              "      <script>\n",
              "        const buttonEl =\n",
              "          document.querySelector('#df-3c077ee8-26fa-4680-85e2-0da2aa728d7a button.colab-df-convert');\n",
              "        buttonEl.style.display =\n",
              "          google.colab.kernel.accessAllowed ? 'block' : 'none';\n",
              "\n",
              "        async function convertToInteractive(key) {\n",
              "          const element = document.querySelector('#df-3c077ee8-26fa-4680-85e2-0da2aa728d7a');\n",
              "          const dataTable =\n",
              "            await google.colab.kernel.invokeFunction('convertToInteractive',\n",
              "                                                     [key], {});\n",
              "          if (!dataTable) return;\n",
              "\n",
              "          const docLinkHtml = 'Like what you see? Visit the ' +\n",
              "            '<a target=\"_blank\" href=https://colab.research.google.com/notebooks/data_table.ipynb>data table notebook</a>'\n",
              "            + ' to learn more about interactive tables.';\n",
              "          element.innerHTML = '';\n",
              "          dataTable['output_type'] = 'display_data';\n",
              "          await google.colab.output.renderOutput(dataTable, element);\n",
              "          const docLink = document.createElement('div');\n",
              "          docLink.innerHTML = docLinkHtml;\n",
              "          element.appendChild(docLink);\n",
              "        }\n",
              "      </script>\n",
              "    </div>\n",
              "  </div>\n",
              "  "
            ]
          },
          "metadata": {},
          "execution_count": 20
        }
      ]
    },
    {
      "cell_type": "code",
      "source": [
        "# How many true prediction ?\n",
        "(df_multi_fr_enfr[\"Match_label_indexs\"][df_multi_fr_enfr[\"Match_label_indexs\"].apply(lambda x: x[1:-1].split(' ')).apply(lambda x:len(x)>=2)].apply(lambda lst: lst[-2]).astype('int') == 9).sum()"
      ],
      "metadata": {
        "id": "KWSfsGgpYphI",
        "colab": {
          "base_uri": "https://localhost:8080/"
        },
        "outputId": "bfc8721a-be41-4fca-a790-2ebb6fbe233e"
      },
      "execution_count": null,
      "outputs": [
        {
          "output_type": "execute_result",
          "data": {
            "text/plain": [
              "611"
            ]
          },
          "metadata": {},
          "execution_count": 21
        }
      ]
    },
    {
      "cell_type": "code",
      "source": [
        "df_multi_fr_enfr['forgetting_events'].value_counts()"
      ],
      "metadata": {
        "id": "N1OPtcqoK2NR",
        "colab": {
          "base_uri": "https://localhost:8080/"
        },
        "outputId": "4930c993-872f-4673-9b9c-92a9eec26465"
      },
      "execution_count": null,
      "outputs": [
        {
          "output_type": "execute_result",
          "data": {
            "text/plain": [
              "1    599\n",
              "0    229\n",
              "2    135\n",
              "3     27\n",
              "4      1\n",
              "Name: forgetting_events, dtype: int64"
            ]
          },
          "metadata": {},
          "execution_count": 22
        }
      ]
    },
    {
      "cell_type": "markdown",
      "source": [
        "## *Dissimilar(Farsi and French)*"
      ],
      "metadata": {
        "id": "NfPPXGEgLSrq"
      }
    },
    {
      "cell_type": "markdown",
      "source": [
        "###Forgettable for Farsi"
      ],
      "metadata": {
        "id": "6tCLrVydLaAv"
      }
    },
    {
      "cell_type": "code",
      "source": [
        "# df_multi_fa_fafr = pd.read_csv(\"/content/drive/MyDrive/NLP Bachelors' Project/FRG_Info(csv files)/Multi Source/intent_fa_10epochs_fafr_Info.csv\")\n",
        "df_multi_fa_fafr = pd.read_csv(\"/content/drive/MyDrive/NLP Bachelors' Project/FRG_Info(pkl files)/Multi Lingual/Farsi_MLL_FRG_Info_FRFA2.csv\")\n",
        "df_multi_fa_fafr"
      ],
      "metadata": {
        "id": "h0kPBXOrLFnZ",
        "colab": {
          "base_uri": "https://localhost:8080/",
          "height": 423
        },
        "outputId": "159e858a-d01d-48a7-ab05-dc8733306c07"
      },
      "execution_count": null,
      "outputs": [
        {
          "output_type": "execute_result",
          "data": {
            "text/plain": [
              "      Unnamed: 0  sample_index  forgetting_events   Match_label_indexs\n",
              "0              0             0                  1      [2 3 4 5 6 8 9]\n",
              "1              1             4                  1    [0 3 4 5 6 7 8 9]\n",
              "2              2             5                  0                   []\n",
              "3              3            15                  1    [1 2 4 5 6 7 8 9]\n",
              "4              4            33                  0                   []\n",
              "...          ...           ...                ...                  ...\n",
              "1137        1137         11450                  1  [0 1 2 3 4 6 7 8 9]\n",
              "1138        1138         11454                  1      [2 3 4 5 7 8 9]\n",
              "1139        1139         11489                  1    [1 2 3 4 6 7 8 9]\n",
              "1140        1140         11493                  1    [0 1 4 5 6 7 8 9]\n",
              "1141        1141         11499                  1  [0 1 2 3 5 6 7 8 9]\n",
              "\n",
              "[1142 rows x 4 columns]"
            ],
            "text/html": [
              "\n",
              "  <div id=\"df-1e8945d9-a5fe-47c9-bf9b-e4576231b91d\">\n",
              "    <div class=\"colab-df-container\">\n",
              "      <div>\n",
              "<style scoped>\n",
              "    .dataframe tbody tr th:only-of-type {\n",
              "        vertical-align: middle;\n",
              "    }\n",
              "\n",
              "    .dataframe tbody tr th {\n",
              "        vertical-align: top;\n",
              "    }\n",
              "\n",
              "    .dataframe thead th {\n",
              "        text-align: right;\n",
              "    }\n",
              "</style>\n",
              "<table border=\"1\" class=\"dataframe\">\n",
              "  <thead>\n",
              "    <tr style=\"text-align: right;\">\n",
              "      <th></th>\n",
              "      <th>Unnamed: 0</th>\n",
              "      <th>sample_index</th>\n",
              "      <th>forgetting_events</th>\n",
              "      <th>Match_label_indexs</th>\n",
              "    </tr>\n",
              "  </thead>\n",
              "  <tbody>\n",
              "    <tr>\n",
              "      <th>0</th>\n",
              "      <td>0</td>\n",
              "      <td>0</td>\n",
              "      <td>1</td>\n",
              "      <td>[2 3 4 5 6 8 9]</td>\n",
              "    </tr>\n",
              "    <tr>\n",
              "      <th>1</th>\n",
              "      <td>1</td>\n",
              "      <td>4</td>\n",
              "      <td>1</td>\n",
              "      <td>[0 3 4 5 6 7 8 9]</td>\n",
              "    </tr>\n",
              "    <tr>\n",
              "      <th>2</th>\n",
              "      <td>2</td>\n",
              "      <td>5</td>\n",
              "      <td>0</td>\n",
              "      <td>[]</td>\n",
              "    </tr>\n",
              "    <tr>\n",
              "      <th>3</th>\n",
              "      <td>3</td>\n",
              "      <td>15</td>\n",
              "      <td>1</td>\n",
              "      <td>[1 2 4 5 6 7 8 9]</td>\n",
              "    </tr>\n",
              "    <tr>\n",
              "      <th>4</th>\n",
              "      <td>4</td>\n",
              "      <td>33</td>\n",
              "      <td>0</td>\n",
              "      <td>[]</td>\n",
              "    </tr>\n",
              "    <tr>\n",
              "      <th>...</th>\n",
              "      <td>...</td>\n",
              "      <td>...</td>\n",
              "      <td>...</td>\n",
              "      <td>...</td>\n",
              "    </tr>\n",
              "    <tr>\n",
              "      <th>1137</th>\n",
              "      <td>1137</td>\n",
              "      <td>11450</td>\n",
              "      <td>1</td>\n",
              "      <td>[0 1 2 3 4 6 7 8 9]</td>\n",
              "    </tr>\n",
              "    <tr>\n",
              "      <th>1138</th>\n",
              "      <td>1138</td>\n",
              "      <td>11454</td>\n",
              "      <td>1</td>\n",
              "      <td>[2 3 4 5 7 8 9]</td>\n",
              "    </tr>\n",
              "    <tr>\n",
              "      <th>1139</th>\n",
              "      <td>1139</td>\n",
              "      <td>11489</td>\n",
              "      <td>1</td>\n",
              "      <td>[1 2 3 4 6 7 8 9]</td>\n",
              "    </tr>\n",
              "    <tr>\n",
              "      <th>1140</th>\n",
              "      <td>1140</td>\n",
              "      <td>11493</td>\n",
              "      <td>1</td>\n",
              "      <td>[0 1 4 5 6 7 8 9]</td>\n",
              "    </tr>\n",
              "    <tr>\n",
              "      <th>1141</th>\n",
              "      <td>1141</td>\n",
              "      <td>11499</td>\n",
              "      <td>1</td>\n",
              "      <td>[0 1 2 3 5 6 7 8 9]</td>\n",
              "    </tr>\n",
              "  </tbody>\n",
              "</table>\n",
              "<p>1142 rows × 4 columns</p>\n",
              "</div>\n",
              "      <button class=\"colab-df-convert\" onclick=\"convertToInteractive('df-1e8945d9-a5fe-47c9-bf9b-e4576231b91d')\"\n",
              "              title=\"Convert this dataframe to an interactive table.\"\n",
              "              style=\"display:none;\">\n",
              "        \n",
              "  <svg xmlns=\"http://www.w3.org/2000/svg\" height=\"24px\"viewBox=\"0 0 24 24\"\n",
              "       width=\"24px\">\n",
              "    <path d=\"M0 0h24v24H0V0z\" fill=\"none\"/>\n",
              "    <path d=\"M18.56 5.44l.94 2.06.94-2.06 2.06-.94-2.06-.94-.94-2.06-.94 2.06-2.06.94zm-11 1L8.5 8.5l.94-2.06 2.06-.94-2.06-.94L8.5 2.5l-.94 2.06-2.06.94zm10 10l.94 2.06.94-2.06 2.06-.94-2.06-.94-.94-2.06-.94 2.06-2.06.94z\"/><path d=\"M17.41 7.96l-1.37-1.37c-.4-.4-.92-.59-1.43-.59-.52 0-1.04.2-1.43.59L10.3 9.45l-7.72 7.72c-.78.78-.78 2.05 0 2.83L4 21.41c.39.39.9.59 1.41.59.51 0 1.02-.2 1.41-.59l7.78-7.78 2.81-2.81c.8-.78.8-2.07 0-2.86zM5.41 20L4 18.59l7.72-7.72 1.47 1.35L5.41 20z\"/>\n",
              "  </svg>\n",
              "      </button>\n",
              "      \n",
              "  <style>\n",
              "    .colab-df-container {\n",
              "      display:flex;\n",
              "      flex-wrap:wrap;\n",
              "      gap: 12px;\n",
              "    }\n",
              "\n",
              "    .colab-df-convert {\n",
              "      background-color: #E8F0FE;\n",
              "      border: none;\n",
              "      border-radius: 50%;\n",
              "      cursor: pointer;\n",
              "      display: none;\n",
              "      fill: #1967D2;\n",
              "      height: 32px;\n",
              "      padding: 0 0 0 0;\n",
              "      width: 32px;\n",
              "    }\n",
              "\n",
              "    .colab-df-convert:hover {\n",
              "      background-color: #E2EBFA;\n",
              "      box-shadow: 0px 1px 2px rgba(60, 64, 67, 0.3), 0px 1px 3px 1px rgba(60, 64, 67, 0.15);\n",
              "      fill: #174EA6;\n",
              "    }\n",
              "\n",
              "    [theme=dark] .colab-df-convert {\n",
              "      background-color: #3B4455;\n",
              "      fill: #D2E3FC;\n",
              "    }\n",
              "\n",
              "    [theme=dark] .colab-df-convert:hover {\n",
              "      background-color: #434B5C;\n",
              "      box-shadow: 0px 1px 3px 1px rgba(0, 0, 0, 0.15);\n",
              "      filter: drop-shadow(0px 1px 2px rgba(0, 0, 0, 0.3));\n",
              "      fill: #FFFFFF;\n",
              "    }\n",
              "  </style>\n",
              "\n",
              "      <script>\n",
              "        const buttonEl =\n",
              "          document.querySelector('#df-1e8945d9-a5fe-47c9-bf9b-e4576231b91d button.colab-df-convert');\n",
              "        buttonEl.style.display =\n",
              "          google.colab.kernel.accessAllowed ? 'block' : 'none';\n",
              "\n",
              "        async function convertToInteractive(key) {\n",
              "          const element = document.querySelector('#df-1e8945d9-a5fe-47c9-bf9b-e4576231b91d');\n",
              "          const dataTable =\n",
              "            await google.colab.kernel.invokeFunction('convertToInteractive',\n",
              "                                                     [key], {});\n",
              "          if (!dataTable) return;\n",
              "\n",
              "          const docLinkHtml = 'Like what you see? Visit the ' +\n",
              "            '<a target=\"_blank\" href=https://colab.research.google.com/notebooks/data_table.ipynb>data table notebook</a>'\n",
              "            + ' to learn more about interactive tables.';\n",
              "          element.innerHTML = '';\n",
              "          dataTable['output_type'] = 'display_data';\n",
              "          await google.colab.output.renderOutput(dataTable, element);\n",
              "          const docLink = document.createElement('div');\n",
              "          docLink.innerHTML = docLinkHtml;\n",
              "          element.appendChild(docLink);\n",
              "        }\n",
              "      </script>\n",
              "    </div>\n",
              "  </div>\n",
              "  "
            ]
          },
          "metadata": {},
          "execution_count": 23
        }
      ]
    },
    {
      "cell_type": "code",
      "source": [
        "# How many true prediction ?\n",
        "(df_multi_fa_fafr[\"Match_label_indexs\"][df_multi_fa_fafr[\"Match_label_indexs\"].apply(lambda x: x[1:-1].split(' ')).apply(lambda x:len(x)>=2)].apply(lambda lst: lst[-2]).astype('int') == 9).sum()"
      ],
      "metadata": {
        "id": "DcRhmL-cZF_2",
        "colab": {
          "base_uri": "https://localhost:8080/"
        },
        "outputId": "9d1313bb-4112-4c77-a83f-3c17efa9b6f5"
      },
      "execution_count": null,
      "outputs": [
        {
          "output_type": "execute_result",
          "data": {
            "text/plain": [
              "914"
            ]
          },
          "metadata": {},
          "execution_count": 24
        }
      ]
    },
    {
      "cell_type": "code",
      "source": [
        "# len(dataset_P['train']['label'])"
      ],
      "metadata": {
        "id": "otOZd1l9gZEe"
      },
      "execution_count": null,
      "outputs": []
    },
    {
      "cell_type": "code",
      "source": [
        "df_multi_fa_fafr['forgetting_events'].value_counts()"
      ],
      "metadata": {
        "id": "toocfURfLtDe",
        "colab": {
          "base_uri": "https://localhost:8080/"
        },
        "outputId": "3677b4fb-fd73-4542-ad3c-05bd0c153ce3"
      },
      "execution_count": null,
      "outputs": [
        {
          "output_type": "execute_result",
          "data": {
            "text/plain": [
              "1    868\n",
              "0    133\n",
              "2    126\n",
              "3     14\n",
              "4      1\n",
              "Name: forgetting_events, dtype: int64"
            ]
          },
          "metadata": {},
          "execution_count": 26
        }
      ]
    },
    {
      "cell_type": "markdown",
      "source": [
        "###Forgettable for French"
      ],
      "metadata": {
        "id": "zPEx4T2mMbV_"
      }
    },
    {
      "cell_type": "code",
      "source": [
        "# df_multi_fr_fafr = pd.read_csv(\"/content/drive/MyDrive/NLP Bachelors' Project/FRG_Info(csv files)/Multi Source/intent_fr_10epochs_fafr_Info.csv\")\n",
        "df_multi_fr_fafr = pd.read_csv(\"/content/drive/MyDrive/NLP Bachelors' Project/FRG_Info(pkl files)/Multi Lingual/French2_MLL_FRG_Info_FRFA2.csv\")\n",
        "df_multi_fr_fafr"
      ],
      "metadata": {
        "id": "8XNRPyhUMYXn",
        "colab": {
          "base_uri": "https://localhost:8080/",
          "height": 423
        },
        "outputId": "f2993f16-0ab9-4c36-9f50-f72f826d568f"
      },
      "execution_count": null,
      "outputs": [
        {
          "output_type": "execute_result",
          "data": {
            "text/plain": [
              "     Unnamed: 0  sample_index  forgetting_events   Match_label_indexs\n",
              "0             0             2                  1                [1 2]\n",
              "1             1            15                  1              [6 7 8]\n",
              "2             2            36                  1      [2 3 5 6 7 8 9]\n",
              "3             3            67                  0                   []\n",
              "4             4            69                  1      [1 4 5 6 7 8 9]\n",
              "..          ...           ...                ...                  ...\n",
              "971         971          8409                  1  [0 1 2 3 5 6 7 8 9]\n",
              "972         972          8411                  1      [2 4 5 6 7 8 9]\n",
              "973         973          8424                  2        [2 4 6 7 8 9]\n",
              "974         974          8426                  1      [2 4 5 6 7 8 9]\n",
              "975         975          8432                  0                   []\n",
              "\n",
              "[976 rows x 4 columns]"
            ],
            "text/html": [
              "\n",
              "  <div id=\"df-4b7e9a2c-c67e-4d84-b742-31de37e0aa79\">\n",
              "    <div class=\"colab-df-container\">\n",
              "      <div>\n",
              "<style scoped>\n",
              "    .dataframe tbody tr th:only-of-type {\n",
              "        vertical-align: middle;\n",
              "    }\n",
              "\n",
              "    .dataframe tbody tr th {\n",
              "        vertical-align: top;\n",
              "    }\n",
              "\n",
              "    .dataframe thead th {\n",
              "        text-align: right;\n",
              "    }\n",
              "</style>\n",
              "<table border=\"1\" class=\"dataframe\">\n",
              "  <thead>\n",
              "    <tr style=\"text-align: right;\">\n",
              "      <th></th>\n",
              "      <th>Unnamed: 0</th>\n",
              "      <th>sample_index</th>\n",
              "      <th>forgetting_events</th>\n",
              "      <th>Match_label_indexs</th>\n",
              "    </tr>\n",
              "  </thead>\n",
              "  <tbody>\n",
              "    <tr>\n",
              "      <th>0</th>\n",
              "      <td>0</td>\n",
              "      <td>2</td>\n",
              "      <td>1</td>\n",
              "      <td>[1 2]</td>\n",
              "    </tr>\n",
              "    <tr>\n",
              "      <th>1</th>\n",
              "      <td>1</td>\n",
              "      <td>15</td>\n",
              "      <td>1</td>\n",
              "      <td>[6 7 8]</td>\n",
              "    </tr>\n",
              "    <tr>\n",
              "      <th>2</th>\n",
              "      <td>2</td>\n",
              "      <td>36</td>\n",
              "      <td>1</td>\n",
              "      <td>[2 3 5 6 7 8 9]</td>\n",
              "    </tr>\n",
              "    <tr>\n",
              "      <th>3</th>\n",
              "      <td>3</td>\n",
              "      <td>67</td>\n",
              "      <td>0</td>\n",
              "      <td>[]</td>\n",
              "    </tr>\n",
              "    <tr>\n",
              "      <th>4</th>\n",
              "      <td>4</td>\n",
              "      <td>69</td>\n",
              "      <td>1</td>\n",
              "      <td>[1 4 5 6 7 8 9]</td>\n",
              "    </tr>\n",
              "    <tr>\n",
              "      <th>...</th>\n",
              "      <td>...</td>\n",
              "      <td>...</td>\n",
              "      <td>...</td>\n",
              "      <td>...</td>\n",
              "    </tr>\n",
              "    <tr>\n",
              "      <th>971</th>\n",
              "      <td>971</td>\n",
              "      <td>8409</td>\n",
              "      <td>1</td>\n",
              "      <td>[0 1 2 3 5 6 7 8 9]</td>\n",
              "    </tr>\n",
              "    <tr>\n",
              "      <th>972</th>\n",
              "      <td>972</td>\n",
              "      <td>8411</td>\n",
              "      <td>1</td>\n",
              "      <td>[2 4 5 6 7 8 9]</td>\n",
              "    </tr>\n",
              "    <tr>\n",
              "      <th>973</th>\n",
              "      <td>973</td>\n",
              "      <td>8424</td>\n",
              "      <td>2</td>\n",
              "      <td>[2 4 6 7 8 9]</td>\n",
              "    </tr>\n",
              "    <tr>\n",
              "      <th>974</th>\n",
              "      <td>974</td>\n",
              "      <td>8426</td>\n",
              "      <td>1</td>\n",
              "      <td>[2 4 5 6 7 8 9]</td>\n",
              "    </tr>\n",
              "    <tr>\n",
              "      <th>975</th>\n",
              "      <td>975</td>\n",
              "      <td>8432</td>\n",
              "      <td>0</td>\n",
              "      <td>[]</td>\n",
              "    </tr>\n",
              "  </tbody>\n",
              "</table>\n",
              "<p>976 rows × 4 columns</p>\n",
              "</div>\n",
              "      <button class=\"colab-df-convert\" onclick=\"convertToInteractive('df-4b7e9a2c-c67e-4d84-b742-31de37e0aa79')\"\n",
              "              title=\"Convert this dataframe to an interactive table.\"\n",
              "              style=\"display:none;\">\n",
              "        \n",
              "  <svg xmlns=\"http://www.w3.org/2000/svg\" height=\"24px\"viewBox=\"0 0 24 24\"\n",
              "       width=\"24px\">\n",
              "    <path d=\"M0 0h24v24H0V0z\" fill=\"none\"/>\n",
              "    <path d=\"M18.56 5.44l.94 2.06.94-2.06 2.06-.94-2.06-.94-.94-2.06-.94 2.06-2.06.94zm-11 1L8.5 8.5l.94-2.06 2.06-.94-2.06-.94L8.5 2.5l-.94 2.06-2.06.94zm10 10l.94 2.06.94-2.06 2.06-.94-2.06-.94-.94-2.06-.94 2.06-2.06.94z\"/><path d=\"M17.41 7.96l-1.37-1.37c-.4-.4-.92-.59-1.43-.59-.52 0-1.04.2-1.43.59L10.3 9.45l-7.72 7.72c-.78.78-.78 2.05 0 2.83L4 21.41c.39.39.9.59 1.41.59.51 0 1.02-.2 1.41-.59l7.78-7.78 2.81-2.81c.8-.78.8-2.07 0-2.86zM5.41 20L4 18.59l7.72-7.72 1.47 1.35L5.41 20z\"/>\n",
              "  </svg>\n",
              "      </button>\n",
              "      \n",
              "  <style>\n",
              "    .colab-df-container {\n",
              "      display:flex;\n",
              "      flex-wrap:wrap;\n",
              "      gap: 12px;\n",
              "    }\n",
              "\n",
              "    .colab-df-convert {\n",
              "      background-color: #E8F0FE;\n",
              "      border: none;\n",
              "      border-radius: 50%;\n",
              "      cursor: pointer;\n",
              "      display: none;\n",
              "      fill: #1967D2;\n",
              "      height: 32px;\n",
              "      padding: 0 0 0 0;\n",
              "      width: 32px;\n",
              "    }\n",
              "\n",
              "    .colab-df-convert:hover {\n",
              "      background-color: #E2EBFA;\n",
              "      box-shadow: 0px 1px 2px rgba(60, 64, 67, 0.3), 0px 1px 3px 1px rgba(60, 64, 67, 0.15);\n",
              "      fill: #174EA6;\n",
              "    }\n",
              "\n",
              "    [theme=dark] .colab-df-convert {\n",
              "      background-color: #3B4455;\n",
              "      fill: #D2E3FC;\n",
              "    }\n",
              "\n",
              "    [theme=dark] .colab-df-convert:hover {\n",
              "      background-color: #434B5C;\n",
              "      box-shadow: 0px 1px 3px 1px rgba(0, 0, 0, 0.15);\n",
              "      filter: drop-shadow(0px 1px 2px rgba(0, 0, 0, 0.3));\n",
              "      fill: #FFFFFF;\n",
              "    }\n",
              "  </style>\n",
              "\n",
              "      <script>\n",
              "        const buttonEl =\n",
              "          document.querySelector('#df-4b7e9a2c-c67e-4d84-b742-31de37e0aa79 button.colab-df-convert');\n",
              "        buttonEl.style.display =\n",
              "          google.colab.kernel.accessAllowed ? 'block' : 'none';\n",
              "\n",
              "        async function convertToInteractive(key) {\n",
              "          const element = document.querySelector('#df-4b7e9a2c-c67e-4d84-b742-31de37e0aa79');\n",
              "          const dataTable =\n",
              "            await google.colab.kernel.invokeFunction('convertToInteractive',\n",
              "                                                     [key], {});\n",
              "          if (!dataTable) return;\n",
              "\n",
              "          const docLinkHtml = 'Like what you see? Visit the ' +\n",
              "            '<a target=\"_blank\" href=https://colab.research.google.com/notebooks/data_table.ipynb>data table notebook</a>'\n",
              "            + ' to learn more about interactive tables.';\n",
              "          element.innerHTML = '';\n",
              "          dataTable['output_type'] = 'display_data';\n",
              "          await google.colab.output.renderOutput(dataTable, element);\n",
              "          const docLink = document.createElement('div');\n",
              "          docLink.innerHTML = docLinkHtml;\n",
              "          element.appendChild(docLink);\n",
              "        }\n",
              "      </script>\n",
              "    </div>\n",
              "  </div>\n",
              "  "
            ]
          },
          "metadata": {},
          "execution_count": 27
        }
      ]
    },
    {
      "cell_type": "code",
      "source": [
        "# How many true prediction ?\n",
        "(df_multi_fr_fafr[\"Match_label_indexs\"][df_multi_fr_fafr[\"Match_label_indexs\"].apply(lambda x: x[1:-1].split(' ')).apply(lambda x:len(x)>=2)].apply(lambda lst: lst[-2]).astype('int') == 9).sum()"
      ],
      "metadata": {
        "id": "GQBHSnJYxCQc",
        "colab": {
          "base_uri": "https://localhost:8080/"
        },
        "outputId": "df8f3f21-93e2-4754-fd77-34c534a63b38"
      },
      "execution_count": null,
      "outputs": [
        {
          "output_type": "execute_result",
          "data": {
            "text/plain": [
              "617"
            ]
          },
          "metadata": {},
          "execution_count": 28
        }
      ]
    },
    {
      "cell_type": "code",
      "source": [
        "df_multi_fr_fafr['forgetting_events'].value_counts()"
      ],
      "metadata": {
        "id": "1R7HHx5cMxkI",
        "colab": {
          "base_uri": "https://localhost:8080/"
        },
        "outputId": "929d0e4e-666b-4f73-b343-b1dded261c2f"
      },
      "execution_count": null,
      "outputs": [
        {
          "output_type": "execute_result",
          "data": {
            "text/plain": [
              "1    635\n",
              "0    186\n",
              "2    137\n",
              "3     17\n",
              "4      1\n",
              "Name: forgetting_events, dtype: int64"
            ]
          },
          "metadata": {},
          "execution_count": 29
        }
      ]
    },
    {
      "cell_type": "code",
      "source": [
        "#Comparison between fr in fafr and enfr\n",
        "new_df = pd.concat([df_multi_fr_fafr,df_multi_fr_enfr])\n",
        "(new_df['sample_index'].value_counts()==2).astype('int').sum()"
      ],
      "metadata": {
        "id": "c9lfhRCG6bgk",
        "colab": {
          "base_uri": "https://localhost:8080/"
        },
        "outputId": "ce21147e-cd6a-434d-cdbc-3cfa2eadc5bd"
      },
      "execution_count": null,
      "outputs": [
        {
          "output_type": "execute_result",
          "data": {
            "text/plain": [
              "609"
            ]
          },
          "metadata": {},
          "execution_count": 30
        }
      ]
    },
    {
      "cell_type": "markdown",
      "source": [
        "## *Dissimilar(English and Farsi)*"
      ],
      "metadata": {
        "id": "RQ8GnC-UM5z_"
      }
    },
    {
      "cell_type": "markdown",
      "source": [
        "###Forgettable for English"
      ],
      "metadata": {
        "id": "yXw-7jJKM-3t"
      }
    },
    {
      "cell_type": "code",
      "source": [
        "# df_multi_en_enfa = pd.read_csv(\"/content/drive/MyDrive/NLP Bachelors' Project/FRG_Info(csv files)/Multi Source/intent_en_10epochs_enfa_Info.csv\")\n",
        "df_multi_en_enfa = pd.read_csv(\"/content/drive/MyDrive/NLP Bachelors' Project/FRG_Info(pkl files)/Multi Lingual/English2_MLL_FRG_Info_ENFA2.csv\")\n",
        "df_multi_en_enfa"
      ],
      "metadata": {
        "id": "2R2ccmlkM8b3",
        "colab": {
          "base_uri": "https://localhost:8080/",
          "height": 423
        },
        "outputId": "9d4586a9-b4b1-4988-ee94-6738a0a2b078"
      },
      "execution_count": null,
      "outputs": [
        {
          "output_type": "execute_result",
          "data": {
            "text/plain": [
              "     Unnamed: 0  sample_index  forgetting_events   Match_label_indexs\n",
              "0             0             4                  1      [2 3 4 6 7 8 9]\n",
              "1             1            16                  1    [0 3 4 5 6 7 8 9]\n",
              "2             2            52                  1          [2 6 7 8 9]\n",
              "3             3            56                  1    [1 3 4 5 6 7 8 9]\n",
              "4             4            73                  1        [3 5 6 7 8 9]\n",
              "..          ...           ...                ...                  ...\n",
              "372         372          7506                  1    [0 3 4 5 6 7 8 9]\n",
              "373         373          7508                  1    [1 3 4 5 6 7 8 9]\n",
              "374         374          7540                  1  [0 2 3 4 5 6 7 8 9]\n",
              "375         375          7547                  1    [1 2 3 5 6 7 8 9]\n",
              "376         376          7554                  2        [1 2 4 7 8 9]\n",
              "\n",
              "[377 rows x 4 columns]"
            ],
            "text/html": [
              "\n",
              "  <div id=\"df-8a821de3-ed2d-4730-a7b7-2e8535eb6271\">\n",
              "    <div class=\"colab-df-container\">\n",
              "      <div>\n",
              "<style scoped>\n",
              "    .dataframe tbody tr th:only-of-type {\n",
              "        vertical-align: middle;\n",
              "    }\n",
              "\n",
              "    .dataframe tbody tr th {\n",
              "        vertical-align: top;\n",
              "    }\n",
              "\n",
              "    .dataframe thead th {\n",
              "        text-align: right;\n",
              "    }\n",
              "</style>\n",
              "<table border=\"1\" class=\"dataframe\">\n",
              "  <thead>\n",
              "    <tr style=\"text-align: right;\">\n",
              "      <th></th>\n",
              "      <th>Unnamed: 0</th>\n",
              "      <th>sample_index</th>\n",
              "      <th>forgetting_events</th>\n",
              "      <th>Match_label_indexs</th>\n",
              "    </tr>\n",
              "  </thead>\n",
              "  <tbody>\n",
              "    <tr>\n",
              "      <th>0</th>\n",
              "      <td>0</td>\n",
              "      <td>4</td>\n",
              "      <td>1</td>\n",
              "      <td>[2 3 4 6 7 8 9]</td>\n",
              "    </tr>\n",
              "    <tr>\n",
              "      <th>1</th>\n",
              "      <td>1</td>\n",
              "      <td>16</td>\n",
              "      <td>1</td>\n",
              "      <td>[0 3 4 5 6 7 8 9]</td>\n",
              "    </tr>\n",
              "    <tr>\n",
              "      <th>2</th>\n",
              "      <td>2</td>\n",
              "      <td>52</td>\n",
              "      <td>1</td>\n",
              "      <td>[2 6 7 8 9]</td>\n",
              "    </tr>\n",
              "    <tr>\n",
              "      <th>3</th>\n",
              "      <td>3</td>\n",
              "      <td>56</td>\n",
              "      <td>1</td>\n",
              "      <td>[1 3 4 5 6 7 8 9]</td>\n",
              "    </tr>\n",
              "    <tr>\n",
              "      <th>4</th>\n",
              "      <td>4</td>\n",
              "      <td>73</td>\n",
              "      <td>1</td>\n",
              "      <td>[3 5 6 7 8 9]</td>\n",
              "    </tr>\n",
              "    <tr>\n",
              "      <th>...</th>\n",
              "      <td>...</td>\n",
              "      <td>...</td>\n",
              "      <td>...</td>\n",
              "      <td>...</td>\n",
              "    </tr>\n",
              "    <tr>\n",
              "      <th>372</th>\n",
              "      <td>372</td>\n",
              "      <td>7506</td>\n",
              "      <td>1</td>\n",
              "      <td>[0 3 4 5 6 7 8 9]</td>\n",
              "    </tr>\n",
              "    <tr>\n",
              "      <th>373</th>\n",
              "      <td>373</td>\n",
              "      <td>7508</td>\n",
              "      <td>1</td>\n",
              "      <td>[1 3 4 5 6 7 8 9]</td>\n",
              "    </tr>\n",
              "    <tr>\n",
              "      <th>374</th>\n",
              "      <td>374</td>\n",
              "      <td>7540</td>\n",
              "      <td>1</td>\n",
              "      <td>[0 2 3 4 5 6 7 8 9]</td>\n",
              "    </tr>\n",
              "    <tr>\n",
              "      <th>375</th>\n",
              "      <td>375</td>\n",
              "      <td>7547</td>\n",
              "      <td>1</td>\n",
              "      <td>[1 2 3 5 6 7 8 9]</td>\n",
              "    </tr>\n",
              "    <tr>\n",
              "      <th>376</th>\n",
              "      <td>376</td>\n",
              "      <td>7554</td>\n",
              "      <td>2</td>\n",
              "      <td>[1 2 4 7 8 9]</td>\n",
              "    </tr>\n",
              "  </tbody>\n",
              "</table>\n",
              "<p>377 rows × 4 columns</p>\n",
              "</div>\n",
              "      <button class=\"colab-df-convert\" onclick=\"convertToInteractive('df-8a821de3-ed2d-4730-a7b7-2e8535eb6271')\"\n",
              "              title=\"Convert this dataframe to an interactive table.\"\n",
              "              style=\"display:none;\">\n",
              "        \n",
              "  <svg xmlns=\"http://www.w3.org/2000/svg\" height=\"24px\"viewBox=\"0 0 24 24\"\n",
              "       width=\"24px\">\n",
              "    <path d=\"M0 0h24v24H0V0z\" fill=\"none\"/>\n",
              "    <path d=\"M18.56 5.44l.94 2.06.94-2.06 2.06-.94-2.06-.94-.94-2.06-.94 2.06-2.06.94zm-11 1L8.5 8.5l.94-2.06 2.06-.94-2.06-.94L8.5 2.5l-.94 2.06-2.06.94zm10 10l.94 2.06.94-2.06 2.06-.94-2.06-.94-.94-2.06-.94 2.06-2.06.94z\"/><path d=\"M17.41 7.96l-1.37-1.37c-.4-.4-.92-.59-1.43-.59-.52 0-1.04.2-1.43.59L10.3 9.45l-7.72 7.72c-.78.78-.78 2.05 0 2.83L4 21.41c.39.39.9.59 1.41.59.51 0 1.02-.2 1.41-.59l7.78-7.78 2.81-2.81c.8-.78.8-2.07 0-2.86zM5.41 20L4 18.59l7.72-7.72 1.47 1.35L5.41 20z\"/>\n",
              "  </svg>\n",
              "      </button>\n",
              "      \n",
              "  <style>\n",
              "    .colab-df-container {\n",
              "      display:flex;\n",
              "      flex-wrap:wrap;\n",
              "      gap: 12px;\n",
              "    }\n",
              "\n",
              "    .colab-df-convert {\n",
              "      background-color: #E8F0FE;\n",
              "      border: none;\n",
              "      border-radius: 50%;\n",
              "      cursor: pointer;\n",
              "      display: none;\n",
              "      fill: #1967D2;\n",
              "      height: 32px;\n",
              "      padding: 0 0 0 0;\n",
              "      width: 32px;\n",
              "    }\n",
              "\n",
              "    .colab-df-convert:hover {\n",
              "      background-color: #E2EBFA;\n",
              "      box-shadow: 0px 1px 2px rgba(60, 64, 67, 0.3), 0px 1px 3px 1px rgba(60, 64, 67, 0.15);\n",
              "      fill: #174EA6;\n",
              "    }\n",
              "\n",
              "    [theme=dark] .colab-df-convert {\n",
              "      background-color: #3B4455;\n",
              "      fill: #D2E3FC;\n",
              "    }\n",
              "\n",
              "    [theme=dark] .colab-df-convert:hover {\n",
              "      background-color: #434B5C;\n",
              "      box-shadow: 0px 1px 3px 1px rgba(0, 0, 0, 0.15);\n",
              "      filter: drop-shadow(0px 1px 2px rgba(0, 0, 0, 0.3));\n",
              "      fill: #FFFFFF;\n",
              "    }\n",
              "  </style>\n",
              "\n",
              "      <script>\n",
              "        const buttonEl =\n",
              "          document.querySelector('#df-8a821de3-ed2d-4730-a7b7-2e8535eb6271 button.colab-df-convert');\n",
              "        buttonEl.style.display =\n",
              "          google.colab.kernel.accessAllowed ? 'block' : 'none';\n",
              "\n",
              "        async function convertToInteractive(key) {\n",
              "          const element = document.querySelector('#df-8a821de3-ed2d-4730-a7b7-2e8535eb6271');\n",
              "          const dataTable =\n",
              "            await google.colab.kernel.invokeFunction('convertToInteractive',\n",
              "                                                     [key], {});\n",
              "          if (!dataTable) return;\n",
              "\n",
              "          const docLinkHtml = 'Like what you see? Visit the ' +\n",
              "            '<a target=\"_blank\" href=https://colab.research.google.com/notebooks/data_table.ipynb>data table notebook</a>'\n",
              "            + ' to learn more about interactive tables.';\n",
              "          element.innerHTML = '';\n",
              "          dataTable['output_type'] = 'display_data';\n",
              "          await google.colab.output.renderOutput(dataTable, element);\n",
              "          const docLink = document.createElement('div');\n",
              "          docLink.innerHTML = docLinkHtml;\n",
              "          element.appendChild(docLink);\n",
              "        }\n",
              "      </script>\n",
              "    </div>\n",
              "  </div>\n",
              "  "
            ]
          },
          "metadata": {},
          "execution_count": 31
        }
      ]
    },
    {
      "cell_type": "code",
      "source": [
        "# len(dataset_E['train']['label'])"
      ],
      "metadata": {
        "id": "vmMmU4lUvv5p"
      },
      "execution_count": null,
      "outputs": []
    },
    {
      "cell_type": "code",
      "source": [
        "# How many true prediction ?\n",
        "(df_multi_en_enfa[\"Match_label_indexs\"][df_multi_en_enfa[\"Match_label_indexs\"].apply(lambda x: x[1:-1].split(' ')).apply(lambda x:len(x)>=2)].apply(lambda lst: lst[-2]).astype('int') == 9).sum()"
      ],
      "metadata": {
        "id": "vcsQXv1PZSHH",
        "colab": {
          "base_uri": "https://localhost:8080/"
        },
        "outputId": "969dcee4-0655-402b-e0a1-3e79d66c4066"
      },
      "execution_count": null,
      "outputs": [
        {
          "output_type": "execute_result",
          "data": {
            "text/plain": [
              "365"
            ]
          },
          "metadata": {},
          "execution_count": 33
        }
      ]
    },
    {
      "cell_type": "code",
      "source": [
        "df_multi_en_enfa['forgetting_events'].value_counts()"
      ],
      "metadata": {
        "id": "mTGeL82iNOm9",
        "colab": {
          "base_uri": "https://localhost:8080/"
        },
        "outputId": "e3a7aa30-808e-4461-badf-2d588632358d"
      },
      "execution_count": null,
      "outputs": [
        {
          "output_type": "execute_result",
          "data": {
            "text/plain": [
              "1    353\n",
              "2     13\n",
              "0     10\n",
              "3      1\n",
              "Name: forgetting_events, dtype: int64"
            ]
          },
          "metadata": {},
          "execution_count": 34
        }
      ]
    },
    {
      "cell_type": "code",
      "source": [
        "#Comparison between en in enfa and enfr\n",
        "new_df = pd.concat([df_multi_en_enfa,df_multi_en_enfr])\n",
        "(new_df['sample_index'].value_counts()==2).astype('int').sum()"
      ],
      "metadata": {
        "id": "YWOR2ns4Njsu",
        "colab": {
          "base_uri": "https://localhost:8080/"
        },
        "outputId": "53390584-73a5-4909-8ced-0caa6632dd4a"
      },
      "execution_count": null,
      "outputs": [
        {
          "output_type": "execute_result",
          "data": {
            "text/plain": [
              "87"
            ]
          },
          "metadata": {},
          "execution_count": 35
        }
      ]
    },
    {
      "cell_type": "markdown",
      "source": [
        "###Forgettable for Farsi"
      ],
      "metadata": {
        "id": "yNl_TMyMRa3D"
      }
    },
    {
      "cell_type": "code",
      "source": [
        "# df_multi_fa_enfa = pd.read_csv(\"/content/drive/MyDrive/NLP Bachelors' Project/FRG_Info(csv files)/Multi Source/intent_fa_10epochs_enfa_Info.csv\")\n",
        "df_multi_fa_enfa = pd.read_csv(\"/content/drive/MyDrive/NLP Bachelors' Project/FRG_Info(pkl files)/Multi Lingual/Farsi_MLL_FRG_Info_ENFA2.csv\")\n",
        "df_multi_fa_enfa"
      ],
      "metadata": {
        "id": "CLEZtkWjRdFv",
        "colab": {
          "base_uri": "https://localhost:8080/",
          "height": 423
        },
        "outputId": "d135de3e-3d49-4e38-8ad9-638793771587"
      },
      "execution_count": null,
      "outputs": [
        {
          "output_type": "execute_result",
          "data": {
            "text/plain": [
              "      Unnamed: 0  sample_index  forgetting_events   Match_label_indexs\n",
              "0              0             5                  0                   []\n",
              "1              1            23                  1    [1 2 4 5 6 7 8 9]\n",
              "2              2            33                  0                   []\n",
              "3              3            40                  0                   []\n",
              "4              4            50                  1      [2 3 5 6 7 8 9]\n",
              "...          ...           ...                ...                  ...\n",
              "1035        1035         11447                  0                   []\n",
              "1036        1036         11479                  1    [1 3 4 5 6 7 8 9]\n",
              "1037        1037         11489                  1      [1 2 3 4 5 8 9]\n",
              "1038        1038         11493                  2    [0 1 2 3 5 7 8 9]\n",
              "1039        1039         11495                  1  [0 1 2 3 4 5 6 7 9]\n",
              "\n",
              "[1040 rows x 4 columns]"
            ],
            "text/html": [
              "\n",
              "  <div id=\"df-5ac1d88e-8f9d-46a1-b2d3-b80c03e5b753\">\n",
              "    <div class=\"colab-df-container\">\n",
              "      <div>\n",
              "<style scoped>\n",
              "    .dataframe tbody tr th:only-of-type {\n",
              "        vertical-align: middle;\n",
              "    }\n",
              "\n",
              "    .dataframe tbody tr th {\n",
              "        vertical-align: top;\n",
              "    }\n",
              "\n",
              "    .dataframe thead th {\n",
              "        text-align: right;\n",
              "    }\n",
              "</style>\n",
              "<table border=\"1\" class=\"dataframe\">\n",
              "  <thead>\n",
              "    <tr style=\"text-align: right;\">\n",
              "      <th></th>\n",
              "      <th>Unnamed: 0</th>\n",
              "      <th>sample_index</th>\n",
              "      <th>forgetting_events</th>\n",
              "      <th>Match_label_indexs</th>\n",
              "    </tr>\n",
              "  </thead>\n",
              "  <tbody>\n",
              "    <tr>\n",
              "      <th>0</th>\n",
              "      <td>0</td>\n",
              "      <td>5</td>\n",
              "      <td>0</td>\n",
              "      <td>[]</td>\n",
              "    </tr>\n",
              "    <tr>\n",
              "      <th>1</th>\n",
              "      <td>1</td>\n",
              "      <td>23</td>\n",
              "      <td>1</td>\n",
              "      <td>[1 2 4 5 6 7 8 9]</td>\n",
              "    </tr>\n",
              "    <tr>\n",
              "      <th>2</th>\n",
              "      <td>2</td>\n",
              "      <td>33</td>\n",
              "      <td>0</td>\n",
              "      <td>[]</td>\n",
              "    </tr>\n",
              "    <tr>\n",
              "      <th>3</th>\n",
              "      <td>3</td>\n",
              "      <td>40</td>\n",
              "      <td>0</td>\n",
              "      <td>[]</td>\n",
              "    </tr>\n",
              "    <tr>\n",
              "      <th>4</th>\n",
              "      <td>4</td>\n",
              "      <td>50</td>\n",
              "      <td>1</td>\n",
              "      <td>[2 3 5 6 7 8 9]</td>\n",
              "    </tr>\n",
              "    <tr>\n",
              "      <th>...</th>\n",
              "      <td>...</td>\n",
              "      <td>...</td>\n",
              "      <td>...</td>\n",
              "      <td>...</td>\n",
              "    </tr>\n",
              "    <tr>\n",
              "      <th>1035</th>\n",
              "      <td>1035</td>\n",
              "      <td>11447</td>\n",
              "      <td>0</td>\n",
              "      <td>[]</td>\n",
              "    </tr>\n",
              "    <tr>\n",
              "      <th>1036</th>\n",
              "      <td>1036</td>\n",
              "      <td>11479</td>\n",
              "      <td>1</td>\n",
              "      <td>[1 3 4 5 6 7 8 9]</td>\n",
              "    </tr>\n",
              "    <tr>\n",
              "      <th>1037</th>\n",
              "      <td>1037</td>\n",
              "      <td>11489</td>\n",
              "      <td>1</td>\n",
              "      <td>[1 2 3 4 5 8 9]</td>\n",
              "    </tr>\n",
              "    <tr>\n",
              "      <th>1038</th>\n",
              "      <td>1038</td>\n",
              "      <td>11493</td>\n",
              "      <td>2</td>\n",
              "      <td>[0 1 2 3 5 7 8 9]</td>\n",
              "    </tr>\n",
              "    <tr>\n",
              "      <th>1039</th>\n",
              "      <td>1039</td>\n",
              "      <td>11495</td>\n",
              "      <td>1</td>\n",
              "      <td>[0 1 2 3 4 5 6 7 9]</td>\n",
              "    </tr>\n",
              "  </tbody>\n",
              "</table>\n",
              "<p>1040 rows × 4 columns</p>\n",
              "</div>\n",
              "      <button class=\"colab-df-convert\" onclick=\"convertToInteractive('df-5ac1d88e-8f9d-46a1-b2d3-b80c03e5b753')\"\n",
              "              title=\"Convert this dataframe to an interactive table.\"\n",
              "              style=\"display:none;\">\n",
              "        \n",
              "  <svg xmlns=\"http://www.w3.org/2000/svg\" height=\"24px\"viewBox=\"0 0 24 24\"\n",
              "       width=\"24px\">\n",
              "    <path d=\"M0 0h24v24H0V0z\" fill=\"none\"/>\n",
              "    <path d=\"M18.56 5.44l.94 2.06.94-2.06 2.06-.94-2.06-.94-.94-2.06-.94 2.06-2.06.94zm-11 1L8.5 8.5l.94-2.06 2.06-.94-2.06-.94L8.5 2.5l-.94 2.06-2.06.94zm10 10l.94 2.06.94-2.06 2.06-.94-2.06-.94-.94-2.06-.94 2.06-2.06.94z\"/><path d=\"M17.41 7.96l-1.37-1.37c-.4-.4-.92-.59-1.43-.59-.52 0-1.04.2-1.43.59L10.3 9.45l-7.72 7.72c-.78.78-.78 2.05 0 2.83L4 21.41c.39.39.9.59 1.41.59.51 0 1.02-.2 1.41-.59l7.78-7.78 2.81-2.81c.8-.78.8-2.07 0-2.86zM5.41 20L4 18.59l7.72-7.72 1.47 1.35L5.41 20z\"/>\n",
              "  </svg>\n",
              "      </button>\n",
              "      \n",
              "  <style>\n",
              "    .colab-df-container {\n",
              "      display:flex;\n",
              "      flex-wrap:wrap;\n",
              "      gap: 12px;\n",
              "    }\n",
              "\n",
              "    .colab-df-convert {\n",
              "      background-color: #E8F0FE;\n",
              "      border: none;\n",
              "      border-radius: 50%;\n",
              "      cursor: pointer;\n",
              "      display: none;\n",
              "      fill: #1967D2;\n",
              "      height: 32px;\n",
              "      padding: 0 0 0 0;\n",
              "      width: 32px;\n",
              "    }\n",
              "\n",
              "    .colab-df-convert:hover {\n",
              "      background-color: #E2EBFA;\n",
              "      box-shadow: 0px 1px 2px rgba(60, 64, 67, 0.3), 0px 1px 3px 1px rgba(60, 64, 67, 0.15);\n",
              "      fill: #174EA6;\n",
              "    }\n",
              "\n",
              "    [theme=dark] .colab-df-convert {\n",
              "      background-color: #3B4455;\n",
              "      fill: #D2E3FC;\n",
              "    }\n",
              "\n",
              "    [theme=dark] .colab-df-convert:hover {\n",
              "      background-color: #434B5C;\n",
              "      box-shadow: 0px 1px 3px 1px rgba(0, 0, 0, 0.15);\n",
              "      filter: drop-shadow(0px 1px 2px rgba(0, 0, 0, 0.3));\n",
              "      fill: #FFFFFF;\n",
              "    }\n",
              "  </style>\n",
              "\n",
              "      <script>\n",
              "        const buttonEl =\n",
              "          document.querySelector('#df-5ac1d88e-8f9d-46a1-b2d3-b80c03e5b753 button.colab-df-convert');\n",
              "        buttonEl.style.display =\n",
              "          google.colab.kernel.accessAllowed ? 'block' : 'none';\n",
              "\n",
              "        async function convertToInteractive(key) {\n",
              "          const element = document.querySelector('#df-5ac1d88e-8f9d-46a1-b2d3-b80c03e5b753');\n",
              "          const dataTable =\n",
              "            await google.colab.kernel.invokeFunction('convertToInteractive',\n",
              "                                                     [key], {});\n",
              "          if (!dataTable) return;\n",
              "\n",
              "          const docLinkHtml = 'Like what you see? Visit the ' +\n",
              "            '<a target=\"_blank\" href=https://colab.research.google.com/notebooks/data_table.ipynb>data table notebook</a>'\n",
              "            + ' to learn more about interactive tables.';\n",
              "          element.innerHTML = '';\n",
              "          dataTable['output_type'] = 'display_data';\n",
              "          await google.colab.output.renderOutput(dataTable, element);\n",
              "          const docLink = document.createElement('div');\n",
              "          docLink.innerHTML = docLinkHtml;\n",
              "          element.appendChild(docLink);\n",
              "        }\n",
              "      </script>\n",
              "    </div>\n",
              "  </div>\n",
              "  "
            ]
          },
          "metadata": {},
          "execution_count": 36
        }
      ]
    },
    {
      "cell_type": "code",
      "source": [
        "# How many true prediction ?\n",
        "(df_multi_fa_enfa[\"Match_label_indexs\"][df_multi_fa_enfa[\"Match_label_indexs\"].apply(lambda x: x[1:-1].split(' ')).apply(lambda x:len(x)>=2)].apply(lambda lst: lst[-2]).astype('int') == 9).sum()"
      ],
      "metadata": {
        "id": "rumLZKqQux9Y",
        "colab": {
          "base_uri": "https://localhost:8080/"
        },
        "outputId": "32143e2d-7e68-4624-b176-5652b8c5fb97"
      },
      "execution_count": null,
      "outputs": [
        {
          "output_type": "execute_result",
          "data": {
            "text/plain": [
              "822"
            ]
          },
          "metadata": {},
          "execution_count": 37
        }
      ]
    },
    {
      "cell_type": "code",
      "source": [
        "# len(dataset_S['train']['airline_sentiment'])"
      ],
      "metadata": {
        "id": "zqRUdgGowBag"
      },
      "execution_count": null,
      "outputs": []
    },
    {
      "cell_type": "code",
      "source": [
        "df_multi_fa_enfa['forgetting_events'].value_counts()"
      ],
      "metadata": {
        "id": "p7q3hd7PRoUr",
        "colab": {
          "base_uri": "https://localhost:8080/"
        },
        "outputId": "f2478f35-7971-4fd9-d68d-963e7a5d9810"
      },
      "execution_count": null,
      "outputs": [
        {
          "output_type": "execute_result",
          "data": {
            "text/plain": [
              "1    789\n",
              "0    131\n",
              "2    115\n",
              "3      5\n",
              "Name: forgetting_events, dtype: int64"
            ]
          },
          "metadata": {},
          "execution_count": 39
        }
      ]
    },
    {
      "cell_type": "code",
      "source": [
        "#Comparison between farsi in enfa and fafr\n",
        "new_df = pd.concat([df_multi_fa_enfa,df_multi_fa_fafr])\n",
        "(new_df['sample_index'].value_counts()==2).astype('int').sum()"
      ],
      "metadata": {
        "id": "1MY4HGd5wimi",
        "colab": {
          "base_uri": "https://localhost:8080/"
        },
        "outputId": "d1a79cfb-1196-4543-cf8f-cd93b970bc78"
      },
      "execution_count": null,
      "outputs": [
        {
          "output_type": "execute_result",
          "data": {
            "text/plain": [
              "537"
            ]
          },
          "metadata": {},
          "execution_count": 40
        }
      ]
    },
    {
      "cell_type": "markdown",
      "source": [],
      "metadata": {
        "id": "sjZgbjzGWPHL"
      }
    },
    {
      "cell_type": "code",
      "source": [
        "#Comparison between all\n",
        "new_df = pd.concat([df_multi_fa_enfa,df_multi_en_enfa,df_multi_fa_fafr,df_multi_fr_fafr,df_multi_en_enfr,df_multi_fr_enfr])\n",
        "(new_df['sample_index'].value_counts()==6).astype('int').sum()"
      ],
      "metadata": {
        "colab": {
          "base_uri": "https://localhost:8080/"
        },
        "id": "rseVi806WOhT",
        "outputId": "d6a3cc24-1e60-4723-e648-2b81057bd8a2"
      },
      "execution_count": null,
      "outputs": [
        {
          "output_type": "execute_result",
          "data": {
            "text/plain": [
              "0"
            ]
          },
          "metadata": {},
          "execution_count": 41
        }
      ]
    }
  ]
}